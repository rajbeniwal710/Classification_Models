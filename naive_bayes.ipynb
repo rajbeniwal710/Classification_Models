{
  "nbformat": 4,
  "nbformat_minor": 0,
  "metadata": {
    "colab": {
      "name": "naive_bayes.ipynb",
      "provenance": [],
      "authorship_tag": "ABX9TyPE/V0MyqmaeBKLEIHhwTha",
      "include_colab_link": true
    },
    "kernelspec": {
      "name": "python3",
      "display_name": "Python 3"
    }
  },
  "cells": [
    {
      "cell_type": "markdown",
      "metadata": {
        "id": "view-in-github",
        "colab_type": "text"
      },
      "source": [
        "<a href=\"https://colab.research.google.com/github/rajbeniwal710/Classification_Models/blob/main/naive_bayes.ipynb\" target=\"_parent\"><img src=\"https://colab.research.google.com/assets/colab-badge.svg\" alt=\"Open In Colab\"/></a>"
      ]
    },
    {
      "cell_type": "code",
      "metadata": {
        "id": "rrpT2zTs13Zb"
      },
      "source": [
        "import pandas as pd\r\n",
        "pharma_data = pd.read_csv('https://raw.githubusercontent.com/dphi-official/Datasets/master/pharma_data/Training_set_begs.csv')\r\n",
        "pharma_data = pharma_data.dropna()\r\n",
        "from sklearn.preprocessing import LabelEncoder\r\n",
        "le = LabelEncoder()\r\n",
        "pharma_data['Treated_with_drugs'] = le.fit_transform(pharma_data['Treated_with_drugs'])\r\n",
        "#x-y \r\n",
        "x = pharma_data.iloc[:,:-1]\r\n",
        "x = x.drop(['Patient_ID'], axis = 1)\r\n",
        "y = pharma_data.iloc[:,-1]\r\n",
        "#data cleaning\r\n",
        "x = pd.get_dummies(x)\r\n",
        "#lets drop some columns to drop dummy trap\r\n",
        "x = x.drop(['Patient_Smoker_NO'], axis = 1)\r\n",
        "x = x.drop(['Patient_Rural_Urban_URBAN'], axis = 1)\r\n",
        "x = x.drop(['ID_Patient_Care_Situation'], axis = 1)\r\n",
        "x = x.drop(['Patient_mental_condition_Stable'], axis = 1)\r\n",
        "x.loc[x['Patient_Age']>100, 'Patient_Age'] = 100\r\n",
        "import numpy as np\r\n",
        "from sklearn.preprocessing import MinMaxScaler\r\n",
        "mms = MinMaxScaler()\r\n",
        "x['Treated_with_drugs'] = mms.fit_transform(np.array(x['Treated_with_drugs']).reshape(-1,1))\r\n",
        "x['Diagnosed_Condition'] = mms.fit_transform(np.array(x['Diagnosed_Condition']).reshape(-1,1))\r\n",
        "x['Patient_Age'] = mms.fit_transform(np.array(x['Patient_Age']).reshape(-1,1))\r\n",
        "x['Patient_Body_Mass_Index'] = mms.fit_transform(np.array(x['Patient_Body_Mass_Index']).reshape(-1,1))\r\n",
        "y = y.astype('category')"
      ],
      "execution_count": 1,
      "outputs": []
    },
    {
      "cell_type": "code",
      "metadata": {
        "id": "0429ICZ26v2A"
      },
      "source": [
        "#train-validation split\r\n",
        "from sklearn.model_selection import train_test_split\r\n",
        "X_train, X_test, y_train, y_test = train_test_split(x, y, test_size=0.33, random_state=42)"
      ],
      "execution_count": 2,
      "outputs": []
    },
    {
      "cell_type": "code",
      "metadata": {
        "id": "d5hflBiq8B0G"
      },
      "source": [
        "from sklearn.naive_bayes import GaussianNB"
      ],
      "execution_count": 3,
      "outputs": []
    },
    {
      "cell_type": "code",
      "metadata": {
        "id": "ikjd0KXp-0aa"
      },
      "source": [
        "model = GaussianNB().fit(X_train,y_train)"
      ],
      "execution_count": 4,
      "outputs": []
    },
    {
      "cell_type": "code",
      "metadata": {
        "id": "J2iVRlxV_RA6"
      },
      "source": [
        "from sklearn.metrics import classification_report, confusion_matrix "
      ],
      "execution_count": 5,
      "outputs": []
    },
    {
      "cell_type": "code",
      "metadata": {
        "colab": {
          "base_uri": "https://localhost:8080/"
        },
        "id": "tRwWbcpC_U67",
        "outputId": "9a3e5ee9-0016-48bc-b3c7-f9a27d3bc95f"
      },
      "source": [
        "y_pred = model.predict(X_train)\r\n",
        "print(\"Classification report for train dataset - \\n\", classification_report(y_train,y_pred))"
      ],
      "execution_count": 6,
      "outputs": [
        {
          "output_type": "stream",
          "text": [
            "Classification report for train dataset - \n",
            "               precision    recall  f1-score   support\n",
            "\n",
            "           0       0.63      0.46      0.53      5480\n",
            "           1       0.72      0.84      0.78      9158\n",
            "\n",
            "    accuracy                           0.70     14638\n",
            "   macro avg       0.68      0.65      0.65     14638\n",
            "weighted avg       0.69      0.70      0.69     14638\n",
            "\n"
          ],
          "name": "stdout"
        }
      ]
    },
    {
      "cell_type": "code",
      "metadata": {
        "colab": {
          "base_uri": "https://localhost:8080/"
        },
        "id": "FVDg7cA__YDH",
        "outputId": "102ccf53-fc92-41ea-f9f0-8bcfd60d7067"
      },
      "source": [
        "# Predicting the values of test data\r\n",
        "y_pred = model.predict(X_test)\r\n",
        "print(\"Classification report for test dataset - \\n\", classification_report(y_test,y_pred))"
      ],
      "execution_count": 7,
      "outputs": [
        {
          "output_type": "stream",
          "text": [
            "Classification report for test dataset - \n",
            "               precision    recall  f1-score   support\n",
            "\n",
            "           0       0.66      0.47      0.55      2727\n",
            "           1       0.72      0.85      0.78      4484\n",
            "\n",
            "    accuracy                           0.71      7211\n",
            "   macro avg       0.69      0.66      0.66      7211\n",
            "weighted avg       0.70      0.71      0.69      7211\n",
            "\n"
          ],
          "name": "stdout"
        }
      ]
    },
    {
      "cell_type": "code",
      "metadata": {
        "id": "4xaQPZIc_cI2"
      },
      "source": [
        "import seaborn as sns\r\n",
        "import matplotlib.pyplot as plt"
      ],
      "execution_count": 8,
      "outputs": []
    },
    {
      "cell_type": "code",
      "metadata": {
        "colab": {
          "base_uri": "https://localhost:8080/",
          "height": 591
        },
        "id": "6_x31a2E_f3e",
        "outputId": "5bfb6258-ec69-44be-b536-343597b705a0"
      },
      "source": [
        "cm = confusion_matrix(y_test, y_pred)\r\n",
        "plt.figure(figsize=(10,10))\r\n",
        "sns.heatmap(data=cm,linewidths=.8, annot=True,square = True,  cmap = 'Blues')\r\n",
        "plt.ylabel('Actual label')\r\n",
        "plt.xlabel('Predicted label')\r\n",
        "all_sample_title = 'Accuracy Score: {0}'.format(model.score(X_test, y_test))\r\n",
        "plt.title(all_sample_title, size = 10)"
      ],
      "execution_count": 9,
      "outputs": [
        {
          "output_type": "execute_result",
          "data": {
            "text/plain": [
              "Text(0.5, 1.0, 'Accuracy Score: 0.706143392039939')"
            ]
          },
          "metadata": {
            "tags": []
          },
          "execution_count": 9
        },
        {
          "output_type": "display_data",
          "data": {
            "image/png": "[encoded data removed]",
            "text/plain": [
              "<Figure size 720x720 with 2 Axes>"
            ]
          },
          "metadata": {
            "tags": [],
            "needs_background": "light"
          }
        }
      ]
    },
    {
      "cell_type": "code",
      "metadata": {
        "id": "tRGzSiZA_i7-"
      },
      "source": [
        ""
      ],
      "execution_count": null,
      "outputs": []
    }
  ]
}