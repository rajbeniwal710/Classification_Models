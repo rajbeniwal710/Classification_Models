{
  "nbformat": 4,
  "nbformat_minor": 0,
  "metadata": {
    "colab": {
      "name": "LogisticRegression.ipynb",
      "provenance": []
    },
    "kernelspec": {
      "name": "python3",
      "display_name": "Python 3"
    }
  },
  "cells": [
    {
      "cell_type": "markdown",
      "metadata": {
        "id": "SIwo-_4KWYdt"
      },
      "source": [
        "**Logistic Regression**\r\n",
        "\r\n"
      ]
    },
    {
      "cell_type": "code",
      "metadata": {
        "id": "nWkm25luFRfh"
      },
      "source": [
        "#importing basic libraries  \r\n",
        "import pandas as pd\r\n",
        "import datetime as dt\r\n",
        "from sklearn.metrics import f1_score\r\n",
        "from sklearn.metrics import classification_report\r\n",
        "from sklearn.metrics import confusion_matrix"
      ],
      "execution_count": 16,
      "outputs": []
    },
    {
      "cell_type": "code",
      "metadata": {
        "id": "MQaUSriSFXGl"
      },
      "source": [
        "#reading data\r\n",
        "startup_data  = pd.read_csv(\"https://raw.githubusercontent.com/dphi-official/Datasets/master/startupdata/training_set_label.csv\" )"
      ],
      "execution_count": 2,
      "outputs": []
    },
    {
      "cell_type": "code",
      "metadata": {
        "colab": {
          "base_uri": "https://localhost:8080/"
        },
        "id": "iHrTzcoMFZLW",
        "outputId": "55f878ec-811e-45e6-a5a8-917d1f00c119"
      },
      "source": [
        "print(startup_data.head())\r\n",
        "print(startup_data.info())\r\n",
        "\r\n",
        "#from google.colab import files\r\n",
        "#startup_data.to_csv('startup_data.csv') \r\n",
        "#files.download('startup_data.csv')"
      ],
      "execution_count": 3,
      "outputs": [
        {
          "output_type": "stream",
          "text": [
            "   Unnamed: 0 state_code   latitude  ...  avg_participants is_top500    status\n",
            "0        1005         CA  42.358880  ...            1.0000         0  acquired\n",
            "1         204         CA  37.238916  ...            4.7500         1  acquired\n",
            "2        1001         CA  32.901049  ...            4.0000         1  acquired\n",
            "3         738         CA  37.320309  ...            3.3333         1  acquired\n",
            "4        1002         CA  37.779281  ...            1.0000         1    closed\n",
            "\n",
            "[5 rows x 48 columns]\n",
            "<class 'pandas.core.frame.DataFrame'>\n",
            "RangeIndex: 923 entries, 0 to 922\n",
            "Data columns (total 48 columns):\n",
            " #   Column                    Non-Null Count  Dtype  \n",
            "---  ------                    --------------  -----  \n",
            " 0   Unnamed: 0                923 non-null    int64  \n",
            " 1   state_code                923 non-null    object \n",
            " 2   latitude                  923 non-null    float64\n",
            " 3   longitude                 923 non-null    float64\n",
            " 4   zip_code                  923 non-null    object \n",
            " 5   id                        923 non-null    object \n",
            " 6   city                      923 non-null    object \n",
            " 7   Unnamed: 6                430 non-null    object \n",
            " 8   name                      923 non-null    object \n",
            " 9   founded_at                923 non-null    object \n",
            " 10  closed_at                 335 non-null    object \n",
            " 11  first_funding_at          923 non-null    object \n",
            " 12  last_funding_at           923 non-null    object \n",
            " 13  age_first_funding_year    923 non-null    float64\n",
            " 14  age_last_funding_year     923 non-null    float64\n",
            " 15  age_first_milestone_year  771 non-null    float64\n",
            " 16  age_last_milestone_year   771 non-null    float64\n",
            " 17  relationships             923 non-null    int64  \n",
            " 18  funding_rounds            923 non-null    int64  \n",
            " 19  funding_total_usd         923 non-null    int64  \n",
            " 20  milestones                923 non-null    int64  \n",
            " 21  state_code.1              922 non-null    object \n",
            " 22  is_CA                     923 non-null    int64  \n",
            " 23  is_NY                     923 non-null    int64  \n",
            " 24  is_MA                     923 non-null    int64  \n",
            " 25  is_TX                     923 non-null    int64  \n",
            " 26  is_otherstate             923 non-null    int64  \n",
            " 27  category_code             923 non-null    object \n",
            " 28  is_software               923 non-null    int64  \n",
            " 29  is_web                    923 non-null    int64  \n",
            " 30  is_mobile                 923 non-null    int64  \n",
            " 31  is_enterprise             923 non-null    int64  \n",
            " 32  is_advertising            923 non-null    int64  \n",
            " 33  is_gamesvideo             923 non-null    int64  \n",
            " 34  is_ecommerce              923 non-null    int64  \n",
            " 35  is_biotech                923 non-null    int64  \n",
            " 36  is_consulting             923 non-null    int64  \n",
            " 37  is_othercategory          923 non-null    int64  \n",
            " 38  object_id                 923 non-null    object \n",
            " 39  has_VC                    923 non-null    int64  \n",
            " 40  has_angel                 923 non-null    int64  \n",
            " 41  has_roundA                923 non-null    int64  \n",
            " 42  has_roundB                923 non-null    int64  \n",
            " 43  has_roundC                923 non-null    int64  \n",
            " 44  has_roundD                923 non-null    int64  \n",
            " 45  avg_participants          923 non-null    float64\n",
            " 46  is_top500                 923 non-null    int64  \n",
            " 47  status                    923 non-null    object \n",
            "dtypes: float64(7), int64(27), object(14)\n",
            "memory usage: 346.2+ KB\n",
            "None\n"
          ],
          "name": "stdout"
        }
      ]
    },
    {
      "cell_type": "code",
      "metadata": {
        "colab": {
          "base_uri": "https://localhost:8080/"
        },
        "id": "IzV0o6bMFcHR",
        "outputId": "8fb40648-7327-4f6e-862a-9ff9dbd23e74"
      },
      "source": [
        "#data cleaning\r\n",
        "#droping unnecessary columns like unnamed: 0(ID), unnamed:6(Address) and others\r\n",
        "col = [0,1,2,3,4,5,6,7,8,21,27,38]\r\n",
        "data = startup_data.drop(startup_data.columns[col], axis = 1)\r\n",
        "data.info()"
      ],
      "execution_count": 4,
      "outputs": [
        {
          "output_type": "stream",
          "text": [
            "<class 'pandas.core.frame.DataFrame'>\n",
            "RangeIndex: 923 entries, 0 to 922\n",
            "Data columns (total 36 columns):\n",
            " #   Column                    Non-Null Count  Dtype  \n",
            "---  ------                    --------------  -----  \n",
            " 0   founded_at                923 non-null    object \n",
            " 1   closed_at                 335 non-null    object \n",
            " 2   first_funding_at          923 non-null    object \n",
            " 3   last_funding_at           923 non-null    object \n",
            " 4   age_first_funding_year    923 non-null    float64\n",
            " 5   age_last_funding_year     923 non-null    float64\n",
            " 6   age_first_milestone_year  771 non-null    float64\n",
            " 7   age_last_milestone_year   771 non-null    float64\n",
            " 8   relationships             923 non-null    int64  \n",
            " 9   funding_rounds            923 non-null    int64  \n",
            " 10  funding_total_usd         923 non-null    int64  \n",
            " 11  milestones                923 non-null    int64  \n",
            " 12  is_CA                     923 non-null    int64  \n",
            " 13  is_NY                     923 non-null    int64  \n",
            " 14  is_MA                     923 non-null    int64  \n",
            " 15  is_TX                     923 non-null    int64  \n",
            " 16  is_otherstate             923 non-null    int64  \n",
            " 17  is_software               923 non-null    int64  \n",
            " 18  is_web                    923 non-null    int64  \n",
            " 19  is_mobile                 923 non-null    int64  \n",
            " 20  is_enterprise             923 non-null    int64  \n",
            " 21  is_advertising            923 non-null    int64  \n",
            " 22  is_gamesvideo             923 non-null    int64  \n",
            " 23  is_ecommerce              923 non-null    int64  \n",
            " 24  is_biotech                923 non-null    int64  \n",
            " 25  is_consulting             923 non-null    int64  \n",
            " 26  is_othercategory          923 non-null    int64  \n",
            " 27  has_VC                    923 non-null    int64  \n",
            " 28  has_angel                 923 non-null    int64  \n",
            " 29  has_roundA                923 non-null    int64  \n",
            " 30  has_roundB                923 non-null    int64  \n",
            " 31  has_roundC                923 non-null    int64  \n",
            " 32  has_roundD                923 non-null    int64  \n",
            " 33  avg_participants          923 non-null    float64\n",
            " 34  is_top500                 923 non-null    int64  \n",
            " 35  status                    923 non-null    object \n",
            "dtypes: float64(5), int64(26), object(5)\n",
            "memory usage: 259.7+ KB\n"
          ],
          "name": "stdout"
        }
      ]
    },
    {
      "cell_type": "code",
      "metadata": {
        "id": "sIuEFSP6Fg4c"
      },
      "source": [
        "#changing date columns\r\n",
        "data['founded_at'] = pd.to_datetime(data['founded_at'])\r\n",
        "data['closed_at'] = pd.to_datetime(data['closed_at'])\r\n",
        "data['founded_at'] = data['founded_at'].map(dt.datetime.toordinal)\r\n",
        "data['closed_at'] = data['closed_at'].map(dt.datetime.toordinal)\r\n",
        "data['first_funding_at'] = pd.to_datetime(data['first_funding_at'])\r\n",
        "data['last_funding_at'] = pd.to_datetime(data['last_funding_at'])\r\n",
        "data['first_funding_at'] = data['first_funding_at'].map(dt.datetime.toordinal)\r\n",
        "data['last_funding_at'] = data['last_funding_at'].map(dt.datetime.toordinal)"
      ],
      "execution_count": 5,
      "outputs": []
    },
    {
      "cell_type": "code",
      "metadata": {
        "id": "claVYV0Imd5h"
      },
      "source": [
        "#replacing na values with o\r\n",
        "data = data.fillna(0)"
      ],
      "execution_count": 6,
      "outputs": []
    },
    {
      "cell_type": "code",
      "metadata": {
        "id": "_obflmp3Fi-3"
      },
      "source": [
        "#defining dependent and independent variables\r\n",
        "x = data.drop(['status'], axis = 1)\r\n",
        "y = data['status'].astype('category')\r\n",
        "y = y.cat.codes"
      ],
      "execution_count": 7,
      "outputs": []
    },
    {
      "cell_type": "code",
      "metadata": {
        "id": "wPudoe50L4yQ"
      },
      "source": [
        "#train-test split\r\n",
        "from sklearn.model_selection import train_test_split\r\n",
        "x_train, x_validation, y_train, y_validation = train_test_split(x, y, test_size=0.20, random_state=101)"
      ],
      "execution_count": 8,
      "outputs": []
    },
    {
      "cell_type": "code",
      "metadata": {
        "id": "EiWOTMCdG0m9"
      },
      "source": [
        "from sklearn.linear_model import LogisticRegression\r\n",
        "lr = LogisticRegression().fit(x_train, y_train)"
      ],
      "execution_count": 9,
      "outputs": []
    },
    {
      "cell_type": "code",
      "metadata": {
        "id": "sWi8cwD0HyS-",
        "colab": {
          "base_uri": "https://localhost:8080/"
        },
        "outputId": "ac225b8b-c6c7-4b9f-f826-471daf2413fa"
      },
      "source": [
        "print(\"training accuracy\", lr.score(x_train, y_train))\r\n",
        "print(\"test accuracy\", lr.score(x_validation, y_validation))\r\n",
        "pre_tra = lr.predict(x_train)\r\n",
        "pre_tes = lr.predict(x_validation)\r\n",
        "print(\"Training F1 score:\", f1_score(y_train, pre_tra))\r\n",
        "print(\"Test F1 score:\", f1_score(y_validation, pre_tes))"
      ],
      "execution_count": 10,
      "outputs": [
        {
          "output_type": "stream",
          "text": [
            "training accuracy 0.989159891598916\n",
            "test accuracy 0.9945945945945946\n",
            "Training F1 score: 0.9847328244274809\n",
            "Test F1 score: 0.9927007299270074\n"
          ],
          "name": "stdout"
        }
      ]
    },
    {
      "cell_type": "code",
      "metadata": {
        "id": "H7Ubq1yynHiI",
        "outputId": "ba975e31-41f7-46d2-dbd7-7dde18e68a4c",
        "colab": {
          "base_uri": "https://localhost:8080/"
        }
      },
      "source": [
        "print(\"Classification report for Training dataset:\\n\",classification_report(y_train, pre_tra))\r\n",
        "print(\"\\n confusion matrix for training dataset: \\n\", confusion_matrix(y_train,pre_tra))"
      ],
      "execution_count": 19,
      "outputs": [
        {
          "output_type": "stream",
          "text": [
            "Classification report for Training dataset:\n",
            "               precision    recall  f1-score   support\n",
            "\n",
            "           0       1.00      0.98      0.99       480\n",
            "           1       0.97      1.00      0.98       258\n",
            "\n",
            "    accuracy                           0.99       738\n",
            "   macro avg       0.98      0.99      0.99       738\n",
            "weighted avg       0.99      0.99      0.99       738\n",
            "\n",
            "\n",
            " confusion matrix for training dataset: \n",
            " [[472   8]\n",
            " [  0 258]]\n"
          ],
          "name": "stdout"
        }
      ]
    },
    {
      "cell_type": "code",
      "metadata": {
        "id": "qawym2axYPl2",
        "outputId": "cf6ffb98-50d2-4fbf-f58f-abfffbe198b4",
        "colab": {
          "base_uri": "https://localhost:8080/"
        }
      },
      "source": [
        "print(\"Classification report for validation dataset:\\n\",classification_report(y_validation, pre_tes))\r\n",
        "print(\"\\n confusion matrix for validation dataset: \\n\", confusion_matrix(y_validation,pre_tes))"
      ],
      "execution_count": 21,
      "outputs": [
        {
          "output_type": "stream",
          "text": [
            "Classification report for validation dataset:\n",
            "               precision    recall  f1-score   support\n",
            "\n",
            "           0       1.00      0.99      1.00       117\n",
            "           1       0.99      1.00      0.99        68\n",
            "\n",
            "    accuracy                           0.99       185\n",
            "   macro avg       0.99      1.00      0.99       185\n",
            "weighted avg       0.99      0.99      0.99       185\n",
            "\n",
            "\n",
            " confusion matrix for validation dataset: \n",
            " [[116   1]\n",
            " [  0  68]]\n"
          ],
          "name": "stdout"
        }
      ]
    },
    {
      "cell_type": "code",
      "metadata": {
        "id": "WqcZFJGxhTmV"
      },
      "source": [
        ""
      ],
      "execution_count": null,
      "outputs": []
    }
  ]
}