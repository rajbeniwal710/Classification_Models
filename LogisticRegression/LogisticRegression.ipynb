{
  "nbformat": 4,
  "nbformat_minor": 0,
  "metadata": {
    "colab": {
      "name": "LogisticRegression.ipynb",
      "provenance": []
    },
    "kernelspec": {
      "name": "python3",
      "display_name": "Python 3"
    }
  },
  "cells": [
    {
      "cell_type": "code",
      "metadata": {
        "id": "nWkm25luFRfh"
      },
      "source": [
        "#import library\r\n",
        "import pandas as pd\r\n",
        "import datetime as dt"
      ],
      "execution_count": 9,
      "outputs": []
    },
    {
      "cell_type": "code",
      "metadata": {
        "id": "MQaUSriSFXGl"
      },
      "source": [
        "startup_data  = pd.read_csv(\"https://raw.githubusercontent.com/dphi-official/Datasets/master/startupdata/training_set_label.csv\" )"
      ],
      "execution_count": 10,
      "outputs": []
    },
    {
      "cell_type": "code",
      "metadata": {
        "colab": {
          "base_uri": "https://localhost:8080/",
          "height": 1000
        },
        "id": "iHrTzcoMFZLW",
        "outputId": "2de3b077-1a85-44ff-9e23-d90005f84360"
      },
      "source": [
        "print(startup_data.head())\r\n",
        "print(startup_data.info())\r\n",
        "\r\n",
        "from google.colab import files\r\n",
        "startup_data.to_csv('startup_data.csv') \r\n",
        "files.download('startup_data.csv')"
      ],
      "execution_count": 11,
      "outputs": [
        {
          "output_type": "stream",
          "text": [
            "   Unnamed: 0 state_code   latitude  ...  avg_participants is_top500    status\n",
            "0        1005         CA  42.358880  ...            1.0000         0  acquired\n",
            "1         204         CA  37.238916  ...            4.7500         1  acquired\n",
            "2        1001         CA  32.901049  ...            4.0000         1  acquired\n",
            "3         738         CA  37.320309  ...            3.3333         1  acquired\n",
            "4        1002         CA  37.779281  ...            1.0000         1    closed\n",
            "\n",
            "[5 rows x 48 columns]\n",
            "<class 'pandas.core.frame.DataFrame'>\n",
            "RangeIndex: 923 entries, 0 to 922\n",
            "Data columns (total 48 columns):\n",
            " #   Column                    Non-Null Count  Dtype  \n",
            "---  ------                    --------------  -----  \n",
            " 0   Unnamed: 0                923 non-null    int64  \n",
            " 1   state_code                923 non-null    object \n",
            " 2   latitude                  923 non-null    float64\n",
            " 3   longitude                 923 non-null    float64\n",
            " 4   zip_code                  923 non-null    object \n",
            " 5   id                        923 non-null    object \n",
            " 6   city                      923 non-null    object \n",
            " 7   Unnamed: 6                430 non-null    object \n",
            " 8   name                      923 non-null    object \n",
            " 9   founded_at                923 non-null    object \n",
            " 10  closed_at                 335 non-null    object \n",
            " 11  first_funding_at          923 non-null    object \n",
            " 12  last_funding_at           923 non-null    object \n",
            " 13  age_first_funding_year    923 non-null    float64\n",
            " 14  age_last_funding_year     923 non-null    float64\n",
            " 15  age_first_milestone_year  771 non-null    float64\n",
            " 16  age_last_milestone_year   771 non-null    float64\n",
            " 17  relationships             923 non-null    int64  \n",
            " 18  funding_rounds            923 non-null    int64  \n",
            " 19  funding_total_usd         923 non-null    int64  \n",
            " 20  milestones                923 non-null    int64  \n",
            " 21  state_code.1              922 non-null    object \n",
            " 22  is_CA                     923 non-null    int64  \n",
            " 23  is_NY                     923 non-null    int64  \n",
            " 24  is_MA                     923 non-null    int64  \n",
            " 25  is_TX                     923 non-null    int64  \n",
            " 26  is_otherstate             923 non-null    int64  \n",
            " 27  category_code             923 non-null    object \n",
            " 28  is_software               923 non-null    int64  \n",
            " 29  is_web                    923 non-null    int64  \n",
            " 30  is_mobile                 923 non-null    int64  \n",
            " 31  is_enterprise             923 non-null    int64  \n",
            " 32  is_advertising            923 non-null    int64  \n",
            " 33  is_gamesvideo             923 non-null    int64  \n",
            " 34  is_ecommerce              923 non-null    int64  \n",
            " 35  is_biotech                923 non-null    int64  \n",
            " 36  is_consulting             923 non-null    int64  \n",
            " 37  is_othercategory          923 non-null    int64  \n",
            " 38  object_id                 923 non-null    object \n",
            " 39  has_VC                    923 non-null    int64  \n",
            " 40  has_angel                 923 non-null    int64  \n",
            " 41  has_roundA                923 non-null    int64  \n",
            " 42  has_roundB                923 non-null    int64  \n",
            " 43  has_roundC                923 non-null    int64  \n",
            " 44  has_roundD                923 non-null    int64  \n",
            " 45  avg_participants          923 non-null    float64\n",
            " 46  is_top500                 923 non-null    int64  \n",
            " 47  status                    923 non-null    object \n",
            "dtypes: float64(7), int64(27), object(14)\n",
            "memory usage: 346.2+ KB\n",
            "None\n"
          ],
          "name": "stdout"
        },
        {
          "output_type": "display_data",
          "data": {
            "application/javascript": [
              "\n",
              "    async function download(id, filename, size) {\n",
              "      if (!google.colab.kernel.accessAllowed) {\n",
              "        return;\n",
              "      }\n",
              "      const div = document.createElement('div');\n",
              "      const label = document.createElement('label');\n",
              "      label.textContent = `Downloading \"${filename}\": `;\n",
              "      div.appendChild(label);\n",
              "      const progress = document.createElement('progress');\n",
              "      progress.max = size;\n",
              "      div.appendChild(progress);\n",
              "      document.body.appendChild(div);\n",
              "\n",
              "      const buffers = [];\n",
              "      let downloaded = 0;\n",
              "\n",
              "      const channel = await google.colab.kernel.comms.open(id);\n",
              "      // Send a message to notify the kernel that we're ready.\n",
              "      channel.send({})\n",
              "\n",
              "      for await (const message of channel.messages) {\n",
              "        // Send a message to notify the kernel that we're ready.\n",
              "        channel.send({})\n",
              "        if (message.buffers) {\n",
              "          for (const buffer of message.buffers) {\n",
              "            buffers.push(buffer);\n",
              "            downloaded += buffer.byteLength;\n",
              "            progress.value = downloaded;\n",
              "          }\n",
              "        }\n",
              "      }\n",
              "      const blob = new Blob(buffers, {type: 'application/binary'});\n",
              "      const a = document.createElement('a');\n",
              "      a.href = window.URL.createObjectURL(blob);\n",
              "      a.download = filename;\n",
              "      div.appendChild(a);\n",
              "      a.click();\n",
              "      div.remove();\n",
              "    }\n",
              "  "
            ],
            "text/plain": [
              "<IPython.core.display.Javascript object>"
            ]
          },
          "metadata": {
            "tags": []
          }
        },
        {
          "output_type": "display_data",
          "data": {
            "application/javascript": [
              "download(\"download_626ccdfe-a8da-4412-94a9-5f5fbaeec7d1\", \"startup_data.csv\", 214845)"
            ],
            "text/plain": [
              "<IPython.core.display.Javascript object>"
            ]
          },
          "metadata": {
            "tags": []
          }
        }
      ]
    },
    {
      "cell_type": "code",
      "metadata": {
        "colab": {
          "base_uri": "https://localhost:8080/"
        },
        "id": "IzV0o6bMFcHR",
        "outputId": "9070d276-a71c-4155-8b0c-f44a8d206119"
      },
      "source": [
        "#data cleaning\r\n",
        "#droping unnecessary columns like unnamed: 0(ID), unnamed:6(Address)\r\n",
        "col = [0,1,2,3,4,5,6,7,8,21,27,38]\r\n",
        "data = startup_data.drop(startup_data.columns[col], axis = 1)\r\n",
        "data.info()"
      ],
      "execution_count": 12,
      "outputs": [
        {
          "output_type": "stream",
          "text": [
            "<class 'pandas.core.frame.DataFrame'>\n",
            "RangeIndex: 923 entries, 0 to 922\n",
            "Data columns (total 36 columns):\n",
            " #   Column                    Non-Null Count  Dtype  \n",
            "---  ------                    --------------  -----  \n",
            " 0   founded_at                923 non-null    object \n",
            " 1   closed_at                 335 non-null    object \n",
            " 2   first_funding_at          923 non-null    object \n",
            " 3   last_funding_at           923 non-null    object \n",
            " 4   age_first_funding_year    923 non-null    float64\n",
            " 5   age_last_funding_year     923 non-null    float64\n",
            " 6   age_first_milestone_year  771 non-null    float64\n",
            " 7   age_last_milestone_year   771 non-null    float64\n",
            " 8   relationships             923 non-null    int64  \n",
            " 9   funding_rounds            923 non-null    int64  \n",
            " 10  funding_total_usd         923 non-null    int64  \n",
            " 11  milestones                923 non-null    int64  \n",
            " 12  is_CA                     923 non-null    int64  \n",
            " 13  is_NY                     923 non-null    int64  \n",
            " 14  is_MA                     923 non-null    int64  \n",
            " 15  is_TX                     923 non-null    int64  \n",
            " 16  is_otherstate             923 non-null    int64  \n",
            " 17  is_software               923 non-null    int64  \n",
            " 18  is_web                    923 non-null    int64  \n",
            " 19  is_mobile                 923 non-null    int64  \n",
            " 20  is_enterprise             923 non-null    int64  \n",
            " 21  is_advertising            923 non-null    int64  \n",
            " 22  is_gamesvideo             923 non-null    int64  \n",
            " 23  is_ecommerce              923 non-null    int64  \n",
            " 24  is_biotech                923 non-null    int64  \n",
            " 25  is_consulting             923 non-null    int64  \n",
            " 26  is_othercategory          923 non-null    int64  \n",
            " 27  has_VC                    923 non-null    int64  \n",
            " 28  has_angel                 923 non-null    int64  \n",
            " 29  has_roundA                923 non-null    int64  \n",
            " 30  has_roundB                923 non-null    int64  \n",
            " 31  has_roundC                923 non-null    int64  \n",
            " 32  has_roundD                923 non-null    int64  \n",
            " 33  avg_participants          923 non-null    float64\n",
            " 34  is_top500                 923 non-null    int64  \n",
            " 35  status                    923 non-null    object \n",
            "dtypes: float64(5), int64(26), object(5)\n",
            "memory usage: 259.7+ KB\n"
          ],
          "name": "stdout"
        }
      ]
    },
    {
      "cell_type": "code",
      "metadata": {
        "id": "sIuEFSP6Fg4c"
      },
      "source": [
        "#changing date columns\r\n",
        "data['founded_at'] = pd.to_datetime(data['founded_at'])\r\n",
        "data['closed_at'] = pd.to_datetime(data['closed_at'])\r\n",
        "data['founded_at'] = data['founded_at'].map(dt.datetime.toordinal)\r\n",
        "data['closed_at'] = data['closed_at'].map(dt.datetime.toordinal)\r\n",
        "data['first_funding_at'] = pd.to_datetime(data['first_funding_at'])\r\n",
        "data['last_funding_at'] = pd.to_datetime(data['last_funding_at'])\r\n",
        "data['first_funding_at'] = data['first_funding_at'].map(dt.datetime.toordinal)\r\n",
        "data['last_funding_at'] = data['last_funding_at'].map(dt.datetime.toordinal)"
      ],
      "execution_count": 13,
      "outputs": []
    },
    {
      "cell_type": "code",
      "metadata": {
        "id": "claVYV0Imd5h"
      },
      "source": [
        "data = data.fillna(0)"
      ],
      "execution_count": 14,
      "outputs": []
    },
    {
      "cell_type": "code",
      "metadata": {
        "id": "_obflmp3Fi-3"
      },
      "source": [
        "x = data.drop(['status'], axis = 1)\r\n",
        "y = data['status'].astype('category')\r\n",
        "y = y.cat.codes"
      ],
      "execution_count": 15,
      "outputs": []
    },
    {
      "cell_type": "code",
      "metadata": {
        "id": "wPudoe50L4yQ"
      },
      "source": [
        "from sklearn.model_selection import train_test_split\r\n",
        "x_train, x_validation, y_train, y_validation = train_test_split(x, y, test_size=0.20, random_state=101)"
      ],
      "execution_count": 16,
      "outputs": []
    },
    {
      "cell_type": "code",
      "metadata": {
        "id": "EiWOTMCdG0m9"
      },
      "source": [
        "from sklearn.linear_model import LogisticRegression\r\n",
        "lr = LogisticRegression().fit(x_train, y_train)"
      ],
      "execution_count": 17,
      "outputs": []
    },
    {
      "cell_type": "code",
      "metadata": {
        "id": "6iBVsuMUHwmS"
      },
      "source": [
        "from sklearn.metrics import f1_score"
      ],
      "execution_count": 18,
      "outputs": []
    },
    {
      "cell_type": "code",
      "metadata": {
        "id": "sWi8cwD0HyS-",
        "colab": {
          "base_uri": "https://localhost:8080/"
        },
        "outputId": "238a8ad0-42fc-4cb9-c7e0-69ead117460b"
      },
      "source": [
        "print(\"training accuracy\", lr.score(x_train, y_train))\r\n",
        "print(\"test accuracy\", lr.score(x_validation, y_validation))\r\n",
        "pre_tra = lr.predict(x_train)\r\n",
        "pre_tes = lr.predict(x_validation)\r\n",
        "print(\"Training F1 score:\", f1_score(y_train, pre_tra))\r\n",
        "print(\"Test F1 score:\", f1_score(y_validation, pre_tes))"
      ],
      "execution_count": 19,
      "outputs": [
        {
          "output_type": "stream",
          "text": [
            "training accuracy 0.989159891598916\n",
            "test accuracy 0.9945945945945946\n",
            "Training F1 score: 0.9847328244274809\n",
            "Test F1 score: 0.9927007299270074\n"
          ],
          "name": "stdout"
        }
      ]
    },
    {
      "cell_type": "code",
      "metadata": {
        "id": "H7Ubq1yynHiI"
      },
      "source": [
        ""
      ],
      "execution_count": null,
      "outputs": []
    }
  ]
}