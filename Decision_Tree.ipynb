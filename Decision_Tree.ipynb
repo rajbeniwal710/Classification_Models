{
  "nbformat": 4,
  "nbformat_minor": 0,
  "metadata": {
    "colab": {
      "name": "Decision_Tree.ipynb",
      "provenance": [],
      "authorship_tag": "ABX9TyNvs1NbMxcWM93aHvef2mLD",
      "include_colab_link": true
    },
    "kernelspec": {
      "name": "python3",
      "display_name": "Python 3"
    }
  },
  "cells": [
    {
      "cell_type": "markdown",
      "metadata": {
        "id": "view-in-github",
        "colab_type": "text"
      },
      "source": [
        "<a href=\"https://colab.research.google.com/github/rajbeniwal710/Classification_Models/blob/main/Decision_Tree.ipynb\" target=\"_parent\"><img src=\"https://colab.research.google.com/assets/colab-badge.svg\" alt=\"Open In Colab\"/></a>"
      ]
    },
    {
      "cell_type": "code",
      "metadata": {
        "id": "7_Ob62mCRgIb"
      },
      "source": [
        "import pandas as pd\r\n",
        "pharma_data = pd.read_csv('https://raw.githubusercontent.com/dphi-official/Datasets/master/pharma_data/Training_set_begs.csv')"
      ],
      "execution_count": 1,
      "outputs": []
    },
    {
      "cell_type": "code",
      "metadata": {
        "colab": {
          "base_uri": "https://localhost:8080/",
          "height": 224
        },
        "id": "UXnQsPhLSkin",
        "outputId": "084d8edd-fb94-49b4-f49a-5a2b54689b7b"
      },
      "source": [
        "pharma_data.head()"
      ],
      "execution_count": 2,
      "outputs": [
        {
          "output_type": "execute_result",
          "data": {
            "text/html": [
              "<div>\n",
              "<style scoped>\n",
              "    .dataframe tbody tr th:only-of-type {\n",
              "        vertical-align: middle;\n",
              "    }\n",
              "\n",
              "    .dataframe tbody tr th {\n",
              "        vertical-align: top;\n",
              "    }\n",
              "\n",
              "    .dataframe thead th {\n",
              "        text-align: right;\n",
              "    }\n",
              "</style>\n",
              "<table border=\"1\" class=\"dataframe\">\n",
              "  <thead>\n",
              "    <tr style=\"text-align: right;\">\n",
              "      <th></th>\n",
              "      <th>ID_Patient_Care_Situation</th>\n",
              "      <th>Diagnosed_Condition</th>\n",
              "      <th>Patient_ID</th>\n",
              "      <th>Treated_with_drugs</th>\n",
              "      <th>Patient_Age</th>\n",
              "      <th>Patient_Body_Mass_Index</th>\n",
              "      <th>Patient_Smoker</th>\n",
              "      <th>Patient_Rural_Urban</th>\n",
              "      <th>Patient_mental_condition</th>\n",
              "      <th>A</th>\n",
              "      <th>B</th>\n",
              "      <th>C</th>\n",
              "      <th>D</th>\n",
              "      <th>E</th>\n",
              "      <th>F</th>\n",
              "      <th>Z</th>\n",
              "      <th>Number_of_prev_cond</th>\n",
              "      <th>Survived_1_year</th>\n",
              "    </tr>\n",
              "  </thead>\n",
              "  <tbody>\n",
              "    <tr>\n",
              "      <th>0</th>\n",
              "      <td>22374</td>\n",
              "      <td>8</td>\n",
              "      <td>3333</td>\n",
              "      <td>DX6</td>\n",
              "      <td>56</td>\n",
              "      <td>18.479385</td>\n",
              "      <td>YES</td>\n",
              "      <td>URBAN</td>\n",
              "      <td>Stable</td>\n",
              "      <td>1.0</td>\n",
              "      <td>0.0</td>\n",
              "      <td>0.0</td>\n",
              "      <td>0.0</td>\n",
              "      <td>1.0</td>\n",
              "      <td>0.0</td>\n",
              "      <td>0.0</td>\n",
              "      <td>2.0</td>\n",
              "      <td>0</td>\n",
              "    </tr>\n",
              "    <tr>\n",
              "      <th>1</th>\n",
              "      <td>18164</td>\n",
              "      <td>5</td>\n",
              "      <td>5740</td>\n",
              "      <td>DX2</td>\n",
              "      <td>36</td>\n",
              "      <td>22.945566</td>\n",
              "      <td>YES</td>\n",
              "      <td>RURAL</td>\n",
              "      <td>Stable</td>\n",
              "      <td>1.0</td>\n",
              "      <td>0.0</td>\n",
              "      <td>0.0</td>\n",
              "      <td>0.0</td>\n",
              "      <td>0.0</td>\n",
              "      <td>0.0</td>\n",
              "      <td>0.0</td>\n",
              "      <td>1.0</td>\n",
              "      <td>1</td>\n",
              "    </tr>\n",
              "    <tr>\n",
              "      <th>2</th>\n",
              "      <td>6283</td>\n",
              "      <td>23</td>\n",
              "      <td>10446</td>\n",
              "      <td>DX6</td>\n",
              "      <td>48</td>\n",
              "      <td>27.510027</td>\n",
              "      <td>YES</td>\n",
              "      <td>RURAL</td>\n",
              "      <td>Stable</td>\n",
              "      <td>1.0</td>\n",
              "      <td>0.0</td>\n",
              "      <td>0.0</td>\n",
              "      <td>0.0</td>\n",
              "      <td>0.0</td>\n",
              "      <td>0.0</td>\n",
              "      <td>0.0</td>\n",
              "      <td>1.0</td>\n",
              "      <td>0</td>\n",
              "    </tr>\n",
              "    <tr>\n",
              "      <th>3</th>\n",
              "      <td>5339</td>\n",
              "      <td>51</td>\n",
              "      <td>12011</td>\n",
              "      <td>DX1</td>\n",
              "      <td>5</td>\n",
              "      <td>19.130976</td>\n",
              "      <td>NO</td>\n",
              "      <td>URBAN</td>\n",
              "      <td>Stable</td>\n",
              "      <td>1.0</td>\n",
              "      <td>0.0</td>\n",
              "      <td>0.0</td>\n",
              "      <td>0.0</td>\n",
              "      <td>0.0</td>\n",
              "      <td>0.0</td>\n",
              "      <td>0.0</td>\n",
              "      <td>1.0</td>\n",
              "      <td>1</td>\n",
              "    </tr>\n",
              "    <tr>\n",
              "      <th>4</th>\n",
              "      <td>33012</td>\n",
              "      <td>0</td>\n",
              "      <td>12513</td>\n",
              "      <td>NaN</td>\n",
              "      <td>128</td>\n",
              "      <td>1.348400</td>\n",
              "      <td>Cannot say</td>\n",
              "      <td>RURAL</td>\n",
              "      <td>Stable</td>\n",
              "      <td>0.0</td>\n",
              "      <td>0.0</td>\n",
              "      <td>0.0</td>\n",
              "      <td>0.0</td>\n",
              "      <td>0.0</td>\n",
              "      <td>0.0</td>\n",
              "      <td>1.0</td>\n",
              "      <td>1.0</td>\n",
              "      <td>1</td>\n",
              "    </tr>\n",
              "  </tbody>\n",
              "</table>\n",
              "</div>"
            ],
            "text/plain": [
              "   ID_Patient_Care_Situation  ...  Survived_1_year\n",
              "0                      22374  ...                0\n",
              "1                      18164  ...                1\n",
              "2                       6283  ...                0\n",
              "3                       5339  ...                1\n",
              "4                      33012  ...                1\n",
              "\n",
              "[5 rows x 18 columns]"
            ]
          },
          "metadata": {
            "tags": []
          },
          "execution_count": 2
        }
      ]
    },
    {
      "cell_type": "code",
      "metadata": {
        "colab": {
          "base_uri": "https://localhost:8080/"
        },
        "id": "Nxq-Ffd6X2XF",
        "outputId": "dda62bd1-f58c-4077-9015-9e02975e3b80"
      },
      "source": [
        "print(pharma_data.info())"
      ],
      "execution_count": 3,
      "outputs": [
        {
          "output_type": "stream",
          "text": [
            "<class 'pandas.core.frame.DataFrame'>\n",
            "RangeIndex: 23097 entries, 0 to 23096\n",
            "Data columns (total 18 columns):\n",
            " #   Column                     Non-Null Count  Dtype  \n",
            "---  ------                     --------------  -----  \n",
            " 0   ID_Patient_Care_Situation  23097 non-null  int64  \n",
            " 1   Diagnosed_Condition        23097 non-null  int64  \n",
            " 2   Patient_ID                 23097 non-null  int64  \n",
            " 3   Treated_with_drugs         23084 non-null  object \n",
            " 4   Patient_Age                23097 non-null  int64  \n",
            " 5   Patient_Body_Mass_Index    23097 non-null  float64\n",
            " 6   Patient_Smoker             23097 non-null  object \n",
            " 7   Patient_Rural_Urban        23097 non-null  object \n",
            " 8   Patient_mental_condition   23097 non-null  object \n",
            " 9   A                          21862 non-null  float64\n",
            " 10  B                          21862 non-null  float64\n",
            " 11  C                          21862 non-null  float64\n",
            " 12  D                          21862 non-null  float64\n",
            " 13  E                          21862 non-null  float64\n",
            " 14  F                          21862 non-null  float64\n",
            " 15  Z                          21862 non-null  float64\n",
            " 16  Number_of_prev_cond        21862 non-null  float64\n",
            " 17  Survived_1_year            23097 non-null  int64  \n",
            "dtypes: float64(9), int64(5), object(4)\n",
            "memory usage: 3.2+ MB\n",
            "None\n"
          ],
          "name": "stdout"
        }
      ]
    },
    {
      "cell_type": "code",
      "metadata": {
        "id": "hxPgweOrrB5g"
      },
      "source": [
        "pharma_data = pharma_data.dropna()"
      ],
      "execution_count": 4,
      "outputs": []
    },
    {
      "cell_type": "code",
      "metadata": {
        "id": "Rr3JYjbHSnXh"
      },
      "source": [
        "#x-y \r\n",
        "x = pharma_data.iloc[:,:-1]\r\n",
        "x = x.drop(['Patient_ID'], axis = 1)\r\n",
        "y = pharma_data.iloc[:,-1]"
      ],
      "execution_count": 5,
      "outputs": []
    },
    {
      "cell_type": "code",
      "metadata": {
        "colab": {
          "base_uri": "https://localhost:8080/",
          "height": 282
        },
        "id": "J9aQcHjtTPVa",
        "outputId": "99aebd8b-621f-40bc-e3ac-55a9f3aeeec9"
      },
      "source": [
        "x['ID_Patient_Care_Situation'].hist()"
      ],
      "execution_count": 6,
      "outputs": [
        {
          "output_type": "execute_result",
          "data": {
            "text/plain": [
              "<matplotlib.axes._subplots.AxesSubplot at 0x7f0a3309f080>"
            ]
          },
          "metadata": {
            "tags": []
          },
          "execution_count": 6
        },
        {
          "output_type": "display_data",
          "data": {
            "image/png": "[encoded data removed]",
            "text/plain": [
              "<Figure size 432x288 with 1 Axes>"
            ]
          },
          "metadata": {
            "tags": [],
            "needs_background": "light"
          }
        }
      ]
    },
    {
      "cell_type": "code",
      "metadata": {
        "colab": {
          "base_uri": "https://localhost:8080/",
          "height": 282
        },
        "id": "DzPQy14rYf8R",
        "outputId": "c1d6aeb1-3755-45b6-8dce-f91fbc9c96f6"
      },
      "source": [
        "x['Diagnosed_Condition'].hist()"
      ],
      "execution_count": 7,
      "outputs": [
        {
          "output_type": "execute_result",
          "data": {
            "text/plain": [
              "<matplotlib.axes._subplots.AxesSubplot at 0x7f0a32fee6a0>"
            ]
          },
          "metadata": {
            "tags": []
          },
          "execution_count": 7
        },
        {
          "output_type": "display_data",
          "data": {
            "image/png": "[encoded data removed]",
            "text/plain": [
              "<Figure size 432x288 with 1 Axes>"
            ]
          },
          "metadata": {
            "tags": [],
            "needs_background": "light"
          }
        }
      ]
    },
    {
      "cell_type": "code",
      "metadata": {
        "colab": {
          "base_uri": "https://localhost:8080/"
        },
        "id": "A0VLybDhZR6d",
        "outputId": "8ab3bd05-62b9-445c-dd77-965b6b0a487b"
      },
      "source": [
        "x.info()"
      ],
      "execution_count": 8,
      "outputs": [
        {
          "output_type": "stream",
          "text": [
            "<class 'pandas.core.frame.DataFrame'>\n",
            "Int64Index: 21849 entries, 0 to 23096\n",
            "Data columns (total 16 columns):\n",
            " #   Column                     Non-Null Count  Dtype  \n",
            "---  ------                     --------------  -----  \n",
            " 0   ID_Patient_Care_Situation  21849 non-null  int64  \n",
            " 1   Diagnosed_Condition        21849 non-null  int64  \n",
            " 2   Treated_with_drugs         21849 non-null  object \n",
            " 3   Patient_Age                21849 non-null  int64  \n",
            " 4   Patient_Body_Mass_Index    21849 non-null  float64\n",
            " 5   Patient_Smoker             21849 non-null  object \n",
            " 6   Patient_Rural_Urban        21849 non-null  object \n",
            " 7   Patient_mental_condition   21849 non-null  object \n",
            " 8   A                          21849 non-null  float64\n",
            " 9   B                          21849 non-null  float64\n",
            " 10  C                          21849 non-null  float64\n",
            " 11  D                          21849 non-null  float64\n",
            " 12  E                          21849 non-null  float64\n",
            " 13  F                          21849 non-null  float64\n",
            " 14  Z                          21849 non-null  float64\n",
            " 15  Number_of_prev_cond        21849 non-null  float64\n",
            "dtypes: float64(9), int64(3), object(4)\n",
            "memory usage: 2.8+ MB\n"
          ],
          "name": "stdout"
        }
      ]
    },
    {
      "cell_type": "code",
      "metadata": {
        "id": "rT9fBFF4ayU1"
      },
      "source": [
        "from sklearn.preprocessing import LabelEncoder"
      ],
      "execution_count": 9,
      "outputs": []
    },
    {
      "cell_type": "code",
      "metadata": {
        "id": "vpAUYRJyZBvg"
      },
      "source": [
        "#data cleaning\r\n",
        "x = pd.get_dummies(x)"
      ],
      "execution_count": 10,
      "outputs": []
    },
    {
      "cell_type": "code",
      "metadata": {
        "colab": {
          "base_uri": "https://localhost:8080/",
          "height": 241
        },
        "id": "ZjXtoY4vZfoZ",
        "outputId": "cb3f8eb0-2701-463a-c2f1-4ef7138d475d"
      },
      "source": [
        "x.head()"
      ],
      "execution_count": 11,
      "outputs": [
        {
          "output_type": "execute_result",
          "data": {
            "text/html": [
              "<div>\n",
              "<style scoped>\n",
              "    .dataframe tbody tr th:only-of-type {\n",
              "        vertical-align: middle;\n",
              "    }\n",
              "\n",
              "    .dataframe tbody tr th {\n",
              "        vertical-align: top;\n",
              "    }\n",
              "\n",
              "    .dataframe thead th {\n",
              "        text-align: right;\n",
              "    }\n",
              "</style>\n",
              "<table border=\"1\" class=\"dataframe\">\n",
              "  <thead>\n",
              "    <tr style=\"text-align: right;\">\n",
              "      <th></th>\n",
              "      <th>ID_Patient_Care_Situation</th>\n",
              "      <th>Diagnosed_Condition</th>\n",
              "      <th>Patient_Age</th>\n",
              "      <th>Patient_Body_Mass_Index</th>\n",
              "      <th>A</th>\n",
              "      <th>B</th>\n",
              "      <th>C</th>\n",
              "      <th>D</th>\n",
              "      <th>E</th>\n",
              "      <th>F</th>\n",
              "      <th>Z</th>\n",
              "      <th>Number_of_prev_cond</th>\n",
              "      <th>Treated_with_drugs_DX1</th>\n",
              "      <th>Treated_with_drugs_DX1 DX2</th>\n",
              "      <th>Treated_with_drugs_DX1 DX2 DX3</th>\n",
              "      <th>Treated_with_drugs_DX1 DX2 DX3 DX4</th>\n",
              "      <th>Treated_with_drugs_DX1 DX2 DX3 DX4 DX5</th>\n",
              "      <th>Treated_with_drugs_DX1 DX2 DX3 DX5</th>\n",
              "      <th>Treated_with_drugs_DX1 DX2 DX4</th>\n",
              "      <th>Treated_with_drugs_DX1 DX2 DX4 DX5</th>\n",
              "      <th>Treated_with_drugs_DX1 DX2 DX5</th>\n",
              "      <th>Treated_with_drugs_DX1 DX3</th>\n",
              "      <th>Treated_with_drugs_DX1 DX3 DX4</th>\n",
              "      <th>Treated_with_drugs_DX1 DX3 DX4 DX5</th>\n",
              "      <th>Treated_with_drugs_DX1 DX3 DX5</th>\n",
              "      <th>Treated_with_drugs_DX1 DX4</th>\n",
              "      <th>Treated_with_drugs_DX1 DX4 DX5</th>\n",
              "      <th>Treated_with_drugs_DX1 DX5</th>\n",
              "      <th>Treated_with_drugs_DX2</th>\n",
              "      <th>Treated_with_drugs_DX2 DX3</th>\n",
              "      <th>Treated_with_drugs_DX2 DX3 DX4</th>\n",
              "      <th>Treated_with_drugs_DX2 DX3 DX4 DX5</th>\n",
              "      <th>Treated_with_drugs_DX2 DX3 DX5</th>\n",
              "      <th>Treated_with_drugs_DX2 DX4</th>\n",
              "      <th>Treated_with_drugs_DX2 DX4 DX5</th>\n",
              "      <th>Treated_with_drugs_DX2 DX5</th>\n",
              "      <th>Treated_with_drugs_DX3</th>\n",
              "      <th>Treated_with_drugs_DX3 DX4</th>\n",
              "      <th>Treated_with_drugs_DX3 DX4 DX5</th>\n",
              "      <th>Treated_with_drugs_DX3 DX5</th>\n",
              "      <th>Treated_with_drugs_DX4</th>\n",
              "      <th>Treated_with_drugs_DX4 DX5</th>\n",
              "      <th>Treated_with_drugs_DX5</th>\n",
              "      <th>Treated_with_drugs_DX6</th>\n",
              "      <th>Patient_Smoker_NO</th>\n",
              "      <th>Patient_Smoker_YES</th>\n",
              "      <th>Patient_Rural_Urban_RURAL</th>\n",
              "      <th>Patient_Rural_Urban_URBAN</th>\n",
              "      <th>Patient_mental_condition_Stable</th>\n",
              "    </tr>\n",
              "  </thead>\n",
              "  <tbody>\n",
              "    <tr>\n",
              "      <th>0</th>\n",
              "      <td>22374</td>\n",
              "      <td>8</td>\n",
              "      <td>56</td>\n",
              "      <td>18.479385</td>\n",
              "      <td>1.0</td>\n",
              "      <td>0.0</td>\n",
              "      <td>0.0</td>\n",
              "      <td>0.0</td>\n",
              "      <td>1.0</td>\n",
              "      <td>0.0</td>\n",
              "      <td>0.0</td>\n",
              "      <td>2.0</td>\n",
              "      <td>0</td>\n",
              "      <td>0</td>\n",
              "      <td>0</td>\n",
              "      <td>0</td>\n",
              "      <td>0</td>\n",
              "      <td>0</td>\n",
              "      <td>0</td>\n",
              "      <td>0</td>\n",
              "      <td>0</td>\n",
              "      <td>0</td>\n",
              "      <td>0</td>\n",
              "      <td>0</td>\n",
              "      <td>0</td>\n",
              "      <td>0</td>\n",
              "      <td>0</td>\n",
              "      <td>0</td>\n",
              "      <td>0</td>\n",
              "      <td>0</td>\n",
              "      <td>0</td>\n",
              "      <td>0</td>\n",
              "      <td>0</td>\n",
              "      <td>0</td>\n",
              "      <td>0</td>\n",
              "      <td>0</td>\n",
              "      <td>0</td>\n",
              "      <td>0</td>\n",
              "      <td>0</td>\n",
              "      <td>0</td>\n",
              "      <td>0</td>\n",
              "      <td>0</td>\n",
              "      <td>0</td>\n",
              "      <td>1</td>\n",
              "      <td>0</td>\n",
              "      <td>1</td>\n",
              "      <td>0</td>\n",
              "      <td>1</td>\n",
              "      <td>1</td>\n",
              "    </tr>\n",
              "    <tr>\n",
              "      <th>1</th>\n",
              "      <td>18164</td>\n",
              "      <td>5</td>\n",
              "      <td>36</td>\n",
              "      <td>22.945566</td>\n",
              "      <td>1.0</td>\n",
              "      <td>0.0</td>\n",
              "      <td>0.0</td>\n",
              "      <td>0.0</td>\n",
              "      <td>0.0</td>\n",
              "      <td>0.0</td>\n",
              "      <td>0.0</td>\n",
              "      <td>1.0</td>\n",
              "      <td>0</td>\n",
              "      <td>0</td>\n",
              "      <td>0</td>\n",
              "      <td>0</td>\n",
              "      <td>0</td>\n",
              "      <td>0</td>\n",
              "      <td>0</td>\n",
              "      <td>0</td>\n",
              "      <td>0</td>\n",
              "      <td>0</td>\n",
              "      <td>0</td>\n",
              "      <td>0</td>\n",
              "      <td>0</td>\n",
              "      <td>0</td>\n",
              "      <td>0</td>\n",
              "      <td>0</td>\n",
              "      <td>1</td>\n",
              "      <td>0</td>\n",
              "      <td>0</td>\n",
              "      <td>0</td>\n",
              "      <td>0</td>\n",
              "      <td>0</td>\n",
              "      <td>0</td>\n",
              "      <td>0</td>\n",
              "      <td>0</td>\n",
              "      <td>0</td>\n",
              "      <td>0</td>\n",
              "      <td>0</td>\n",
              "      <td>0</td>\n",
              "      <td>0</td>\n",
              "      <td>0</td>\n",
              "      <td>0</td>\n",
              "      <td>0</td>\n",
              "      <td>1</td>\n",
              "      <td>1</td>\n",
              "      <td>0</td>\n",
              "      <td>1</td>\n",
              "    </tr>\n",
              "    <tr>\n",
              "      <th>2</th>\n",
              "      <td>6283</td>\n",
              "      <td>23</td>\n",
              "      <td>48</td>\n",
              "      <td>27.510027</td>\n",
              "      <td>1.0</td>\n",
              "      <td>0.0</td>\n",
              "      <td>0.0</td>\n",
              "      <td>0.0</td>\n",
              "      <td>0.0</td>\n",
              "      <td>0.0</td>\n",
              "      <td>0.0</td>\n",
              "      <td>1.0</td>\n",
              "      <td>0</td>\n",
              "      <td>0</td>\n",
              "      <td>0</td>\n",
              "      <td>0</td>\n",
              "      <td>0</td>\n",
              "      <td>0</td>\n",
              "      <td>0</td>\n",
              "      <td>0</td>\n",
              "      <td>0</td>\n",
              "      <td>0</td>\n",
              "      <td>0</td>\n",
              "      <td>0</td>\n",
              "      <td>0</td>\n",
              "      <td>0</td>\n",
              "      <td>0</td>\n",
              "      <td>0</td>\n",
              "      <td>0</td>\n",
              "      <td>0</td>\n",
              "      <td>0</td>\n",
              "      <td>0</td>\n",
              "      <td>0</td>\n",
              "      <td>0</td>\n",
              "      <td>0</td>\n",
              "      <td>0</td>\n",
              "      <td>0</td>\n",
              "      <td>0</td>\n",
              "      <td>0</td>\n",
              "      <td>0</td>\n",
              "      <td>0</td>\n",
              "      <td>0</td>\n",
              "      <td>0</td>\n",
              "      <td>1</td>\n",
              "      <td>0</td>\n",
              "      <td>1</td>\n",
              "      <td>1</td>\n",
              "      <td>0</td>\n",
              "      <td>1</td>\n",
              "    </tr>\n",
              "    <tr>\n",
              "      <th>3</th>\n",
              "      <td>5339</td>\n",
              "      <td>51</td>\n",
              "      <td>5</td>\n",
              "      <td>19.130976</td>\n",
              "      <td>1.0</td>\n",
              "      <td>0.0</td>\n",
              "      <td>0.0</td>\n",
              "      <td>0.0</td>\n",
              "      <td>0.0</td>\n",
              "      <td>0.0</td>\n",
              "      <td>0.0</td>\n",
              "      <td>1.0</td>\n",
              "      <td>1</td>\n",
              "      <td>0</td>\n",
              "      <td>0</td>\n",
              "      <td>0</td>\n",
              "      <td>0</td>\n",
              "      <td>0</td>\n",
              "      <td>0</td>\n",
              "      <td>0</td>\n",
              "      <td>0</td>\n",
              "      <td>0</td>\n",
              "      <td>0</td>\n",
              "      <td>0</td>\n",
              "      <td>0</td>\n",
              "      <td>0</td>\n",
              "      <td>0</td>\n",
              "      <td>0</td>\n",
              "      <td>0</td>\n",
              "      <td>0</td>\n",
              "      <td>0</td>\n",
              "      <td>0</td>\n",
              "      <td>0</td>\n",
              "      <td>0</td>\n",
              "      <td>0</td>\n",
              "      <td>0</td>\n",
              "      <td>0</td>\n",
              "      <td>0</td>\n",
              "      <td>0</td>\n",
              "      <td>0</td>\n",
              "      <td>0</td>\n",
              "      <td>0</td>\n",
              "      <td>0</td>\n",
              "      <td>0</td>\n",
              "      <td>1</td>\n",
              "      <td>0</td>\n",
              "      <td>0</td>\n",
              "      <td>1</td>\n",
              "      <td>1</td>\n",
              "    </tr>\n",
              "    <tr>\n",
              "      <th>5</th>\n",
              "      <td>10808</td>\n",
              "      <td>45</td>\n",
              "      <td>47</td>\n",
              "      <td>26.155120</td>\n",
              "      <td>1.0</td>\n",
              "      <td>0.0</td>\n",
              "      <td>0.0</td>\n",
              "      <td>0.0</td>\n",
              "      <td>0.0</td>\n",
              "      <td>0.0</td>\n",
              "      <td>0.0</td>\n",
              "      <td>1.0</td>\n",
              "      <td>0</td>\n",
              "      <td>0</td>\n",
              "      <td>0</td>\n",
              "      <td>0</td>\n",
              "      <td>0</td>\n",
              "      <td>0</td>\n",
              "      <td>0</td>\n",
              "      <td>0</td>\n",
              "      <td>0</td>\n",
              "      <td>0</td>\n",
              "      <td>0</td>\n",
              "      <td>0</td>\n",
              "      <td>0</td>\n",
              "      <td>0</td>\n",
              "      <td>0</td>\n",
              "      <td>0</td>\n",
              "      <td>0</td>\n",
              "      <td>0</td>\n",
              "      <td>0</td>\n",
              "      <td>0</td>\n",
              "      <td>0</td>\n",
              "      <td>0</td>\n",
              "      <td>0</td>\n",
              "      <td>0</td>\n",
              "      <td>0</td>\n",
              "      <td>0</td>\n",
              "      <td>0</td>\n",
              "      <td>0</td>\n",
              "      <td>0</td>\n",
              "      <td>0</td>\n",
              "      <td>0</td>\n",
              "      <td>1</td>\n",
              "      <td>0</td>\n",
              "      <td>1</td>\n",
              "      <td>0</td>\n",
              "      <td>1</td>\n",
              "      <td>1</td>\n",
              "    </tr>\n",
              "  </tbody>\n",
              "</table>\n",
              "</div>"
            ],
            "text/plain": [
              "   ID_Patient_Care_Situation  ...  Patient_mental_condition_Stable\n",
              "0                      22374  ...                                1\n",
              "1                      18164  ...                                1\n",
              "2                       6283  ...                                1\n",
              "3                       5339  ...                                1\n",
              "5                      10808  ...                                1\n",
              "\n",
              "[5 rows x 49 columns]"
            ]
          },
          "metadata": {
            "tags": []
          },
          "execution_count": 11
        }
      ]
    },
    {
      "cell_type": "code",
      "metadata": {
        "id": "ZzN4-OBGcgzX"
      },
      "source": [
        "#lets drop some columns to drop dummy trap\r\n",
        "x = x.drop(['Treated_with_drugs_DX6'], axis = 1)\r\n",
        "x = x.drop(['Patient_Smoker_NO'], axis = 1)\r\n",
        "x = x.drop(['Patient_Rural_Urban_URBAN'], axis = 1)"
      ],
      "execution_count": 12,
      "outputs": []
    },
    {
      "cell_type": "code",
      "metadata": {
        "id": "Y9sf_pvGgXii"
      },
      "source": [
        "x = x.drop(['ID_Patient_Care_Situation'], axis = 1)"
      ],
      "execution_count": 13,
      "outputs": []
    },
    {
      "cell_type": "code",
      "metadata": {
        "colab": {
          "base_uri": "https://localhost:8080/",
          "height": 241
        },
        "id": "z3nGXYP0coHU",
        "outputId": "e9c78e37-de2d-4de1-f8f0-b5eb116f43cd"
      },
      "source": [
        "x.head()"
      ],
      "execution_count": 14,
      "outputs": [
        {
          "output_type": "execute_result",
          "data": {
            "text/html": [
              "<div>\n",
              "<style scoped>\n",
              "    .dataframe tbody tr th:only-of-type {\n",
              "        vertical-align: middle;\n",
              "    }\n",
              "\n",
              "    .dataframe tbody tr th {\n",
              "        vertical-align: top;\n",
              "    }\n",
              "\n",
              "    .dataframe thead th {\n",
              "        text-align: right;\n",
              "    }\n",
              "</style>\n",
              "<table border=\"1\" class=\"dataframe\">\n",
              "  <thead>\n",
              "    <tr style=\"text-align: right;\">\n",
              "      <th></th>\n",
              "      <th>Diagnosed_Condition</th>\n",
              "      <th>Patient_Age</th>\n",
              "      <th>Patient_Body_Mass_Index</th>\n",
              "      <th>A</th>\n",
              "      <th>B</th>\n",
              "      <th>C</th>\n",
              "      <th>D</th>\n",
              "      <th>E</th>\n",
              "      <th>F</th>\n",
              "      <th>Z</th>\n",
              "      <th>Number_of_prev_cond</th>\n",
              "      <th>Treated_with_drugs_DX1</th>\n",
              "      <th>Treated_with_drugs_DX1 DX2</th>\n",
              "      <th>Treated_with_drugs_DX1 DX2 DX3</th>\n",
              "      <th>Treated_with_drugs_DX1 DX2 DX3 DX4</th>\n",
              "      <th>Treated_with_drugs_DX1 DX2 DX3 DX4 DX5</th>\n",
              "      <th>Treated_with_drugs_DX1 DX2 DX3 DX5</th>\n",
              "      <th>Treated_with_drugs_DX1 DX2 DX4</th>\n",
              "      <th>Treated_with_drugs_DX1 DX2 DX4 DX5</th>\n",
              "      <th>Treated_with_drugs_DX1 DX2 DX5</th>\n",
              "      <th>Treated_with_drugs_DX1 DX3</th>\n",
              "      <th>Treated_with_drugs_DX1 DX3 DX4</th>\n",
              "      <th>Treated_with_drugs_DX1 DX3 DX4 DX5</th>\n",
              "      <th>Treated_with_drugs_DX1 DX3 DX5</th>\n",
              "      <th>Treated_with_drugs_DX1 DX4</th>\n",
              "      <th>Treated_with_drugs_DX1 DX4 DX5</th>\n",
              "      <th>Treated_with_drugs_DX1 DX5</th>\n",
              "      <th>Treated_with_drugs_DX2</th>\n",
              "      <th>Treated_with_drugs_DX2 DX3</th>\n",
              "      <th>Treated_with_drugs_DX2 DX3 DX4</th>\n",
              "      <th>Treated_with_drugs_DX2 DX3 DX4 DX5</th>\n",
              "      <th>Treated_with_drugs_DX2 DX3 DX5</th>\n",
              "      <th>Treated_with_drugs_DX2 DX4</th>\n",
              "      <th>Treated_with_drugs_DX2 DX4 DX5</th>\n",
              "      <th>Treated_with_drugs_DX2 DX5</th>\n",
              "      <th>Treated_with_drugs_DX3</th>\n",
              "      <th>Treated_with_drugs_DX3 DX4</th>\n",
              "      <th>Treated_with_drugs_DX3 DX4 DX5</th>\n",
              "      <th>Treated_with_drugs_DX3 DX5</th>\n",
              "      <th>Treated_with_drugs_DX4</th>\n",
              "      <th>Treated_with_drugs_DX4 DX5</th>\n",
              "      <th>Treated_with_drugs_DX5</th>\n",
              "      <th>Patient_Smoker_YES</th>\n",
              "      <th>Patient_Rural_Urban_RURAL</th>\n",
              "      <th>Patient_mental_condition_Stable</th>\n",
              "    </tr>\n",
              "  </thead>\n",
              "  <tbody>\n",
              "    <tr>\n",
              "      <th>0</th>\n",
              "      <td>8</td>\n",
              "      <td>56</td>\n",
              "      <td>18.479385</td>\n",
              "      <td>1.0</td>\n",
              "      <td>0.0</td>\n",
              "      <td>0.0</td>\n",
              "      <td>0.0</td>\n",
              "      <td>1.0</td>\n",
              "      <td>0.0</td>\n",
              "      <td>0.0</td>\n",
              "      <td>2.0</td>\n",
              "      <td>0</td>\n",
              "      <td>0</td>\n",
              "      <td>0</td>\n",
              "      <td>0</td>\n",
              "      <td>0</td>\n",
              "      <td>0</td>\n",
              "      <td>0</td>\n",
              "      <td>0</td>\n",
              "      <td>0</td>\n",
              "      <td>0</td>\n",
              "      <td>0</td>\n",
              "      <td>0</td>\n",
              "      <td>0</td>\n",
              "      <td>0</td>\n",
              "      <td>0</td>\n",
              "      <td>0</td>\n",
              "      <td>0</td>\n",
              "      <td>0</td>\n",
              "      <td>0</td>\n",
              "      <td>0</td>\n",
              "      <td>0</td>\n",
              "      <td>0</td>\n",
              "      <td>0</td>\n",
              "      <td>0</td>\n",
              "      <td>0</td>\n",
              "      <td>0</td>\n",
              "      <td>0</td>\n",
              "      <td>0</td>\n",
              "      <td>0</td>\n",
              "      <td>0</td>\n",
              "      <td>0</td>\n",
              "      <td>1</td>\n",
              "      <td>0</td>\n",
              "      <td>1</td>\n",
              "    </tr>\n",
              "    <tr>\n",
              "      <th>1</th>\n",
              "      <td>5</td>\n",
              "      <td>36</td>\n",
              "      <td>22.945566</td>\n",
              "      <td>1.0</td>\n",
              "      <td>0.0</td>\n",
              "      <td>0.0</td>\n",
              "      <td>0.0</td>\n",
              "      <td>0.0</td>\n",
              "      <td>0.0</td>\n",
              "      <td>0.0</td>\n",
              "      <td>1.0</td>\n",
              "      <td>0</td>\n",
              "      <td>0</td>\n",
              "      <td>0</td>\n",
              "      <td>0</td>\n",
              "      <td>0</td>\n",
              "      <td>0</td>\n",
              "      <td>0</td>\n",
              "      <td>0</td>\n",
              "      <td>0</td>\n",
              "      <td>0</td>\n",
              "      <td>0</td>\n",
              "      <td>0</td>\n",
              "      <td>0</td>\n",
              "      <td>0</td>\n",
              "      <td>0</td>\n",
              "      <td>0</td>\n",
              "      <td>1</td>\n",
              "      <td>0</td>\n",
              "      <td>0</td>\n",
              "      <td>0</td>\n",
              "      <td>0</td>\n",
              "      <td>0</td>\n",
              "      <td>0</td>\n",
              "      <td>0</td>\n",
              "      <td>0</td>\n",
              "      <td>0</td>\n",
              "      <td>0</td>\n",
              "      <td>0</td>\n",
              "      <td>0</td>\n",
              "      <td>0</td>\n",
              "      <td>0</td>\n",
              "      <td>1</td>\n",
              "      <td>1</td>\n",
              "      <td>1</td>\n",
              "    </tr>\n",
              "    <tr>\n",
              "      <th>2</th>\n",
              "      <td>23</td>\n",
              "      <td>48</td>\n",
              "      <td>27.510027</td>\n",
              "      <td>1.0</td>\n",
              "      <td>0.0</td>\n",
              "      <td>0.0</td>\n",
              "      <td>0.0</td>\n",
              "      <td>0.0</td>\n",
              "      <td>0.0</td>\n",
              "      <td>0.0</td>\n",
              "      <td>1.0</td>\n",
              "      <td>0</td>\n",
              "      <td>0</td>\n",
              "      <td>0</td>\n",
              "      <td>0</td>\n",
              "      <td>0</td>\n",
              "      <td>0</td>\n",
              "      <td>0</td>\n",
              "      <td>0</td>\n",
              "      <td>0</td>\n",
              "      <td>0</td>\n",
              "      <td>0</td>\n",
              "      <td>0</td>\n",
              "      <td>0</td>\n",
              "      <td>0</td>\n",
              "      <td>0</td>\n",
              "      <td>0</td>\n",
              "      <td>0</td>\n",
              "      <td>0</td>\n",
              "      <td>0</td>\n",
              "      <td>0</td>\n",
              "      <td>0</td>\n",
              "      <td>0</td>\n",
              "      <td>0</td>\n",
              "      <td>0</td>\n",
              "      <td>0</td>\n",
              "      <td>0</td>\n",
              "      <td>0</td>\n",
              "      <td>0</td>\n",
              "      <td>0</td>\n",
              "      <td>0</td>\n",
              "      <td>0</td>\n",
              "      <td>1</td>\n",
              "      <td>1</td>\n",
              "      <td>1</td>\n",
              "    </tr>\n",
              "    <tr>\n",
              "      <th>3</th>\n",
              "      <td>51</td>\n",
              "      <td>5</td>\n",
              "      <td>19.130976</td>\n",
              "      <td>1.0</td>\n",
              "      <td>0.0</td>\n",
              "      <td>0.0</td>\n",
              "      <td>0.0</td>\n",
              "      <td>0.0</td>\n",
              "      <td>0.0</td>\n",
              "      <td>0.0</td>\n",
              "      <td>1.0</td>\n",
              "      <td>1</td>\n",
              "      <td>0</td>\n",
              "      <td>0</td>\n",
              "      <td>0</td>\n",
              "      <td>0</td>\n",
              "      <td>0</td>\n",
              "      <td>0</td>\n",
              "      <td>0</td>\n",
              "      <td>0</td>\n",
              "      <td>0</td>\n",
              "      <td>0</td>\n",
              "      <td>0</td>\n",
              "      <td>0</td>\n",
              "      <td>0</td>\n",
              "      <td>0</td>\n",
              "      <td>0</td>\n",
              "      <td>0</td>\n",
              "      <td>0</td>\n",
              "      <td>0</td>\n",
              "      <td>0</td>\n",
              "      <td>0</td>\n",
              "      <td>0</td>\n",
              "      <td>0</td>\n",
              "      <td>0</td>\n",
              "      <td>0</td>\n",
              "      <td>0</td>\n",
              "      <td>0</td>\n",
              "      <td>0</td>\n",
              "      <td>0</td>\n",
              "      <td>0</td>\n",
              "      <td>0</td>\n",
              "      <td>0</td>\n",
              "      <td>0</td>\n",
              "      <td>1</td>\n",
              "    </tr>\n",
              "    <tr>\n",
              "      <th>5</th>\n",
              "      <td>45</td>\n",
              "      <td>47</td>\n",
              "      <td>26.155120</td>\n",
              "      <td>1.0</td>\n",
              "      <td>0.0</td>\n",
              "      <td>0.0</td>\n",
              "      <td>0.0</td>\n",
              "      <td>0.0</td>\n",
              "      <td>0.0</td>\n",
              "      <td>0.0</td>\n",
              "      <td>1.0</td>\n",
              "      <td>0</td>\n",
              "      <td>0</td>\n",
              "      <td>0</td>\n",
              "      <td>0</td>\n",
              "      <td>0</td>\n",
              "      <td>0</td>\n",
              "      <td>0</td>\n",
              "      <td>0</td>\n",
              "      <td>0</td>\n",
              "      <td>0</td>\n",
              "      <td>0</td>\n",
              "      <td>0</td>\n",
              "      <td>0</td>\n",
              "      <td>0</td>\n",
              "      <td>0</td>\n",
              "      <td>0</td>\n",
              "      <td>0</td>\n",
              "      <td>0</td>\n",
              "      <td>0</td>\n",
              "      <td>0</td>\n",
              "      <td>0</td>\n",
              "      <td>0</td>\n",
              "      <td>0</td>\n",
              "      <td>0</td>\n",
              "      <td>0</td>\n",
              "      <td>0</td>\n",
              "      <td>0</td>\n",
              "      <td>0</td>\n",
              "      <td>0</td>\n",
              "      <td>0</td>\n",
              "      <td>0</td>\n",
              "      <td>1</td>\n",
              "      <td>0</td>\n",
              "      <td>1</td>\n",
              "    </tr>\n",
              "  </tbody>\n",
              "</table>\n",
              "</div>"
            ],
            "text/plain": [
              "   Diagnosed_Condition  ...  Patient_mental_condition_Stable\n",
              "0                    8  ...                                1\n",
              "1                    5  ...                                1\n",
              "2                   23  ...                                1\n",
              "3                   51  ...                                1\n",
              "5                   45  ...                                1\n",
              "\n",
              "[5 rows x 45 columns]"
            ]
          },
          "metadata": {
            "tags": []
          },
          "execution_count": 14
        }
      ]
    },
    {
      "cell_type": "code",
      "metadata": {
        "id": "gsJmam5XgC2_"
      },
      "source": [
        "import numpy as np"
      ],
      "execution_count": 15,
      "outputs": []
    },
    {
      "cell_type": "code",
      "metadata": {
        "id": "mpBDcWdsebfR"
      },
      "source": [
        "from sklearn.preprocessing import MinMaxScaler\r\n",
        "mms = MinMaxScaler()\r\n",
        "x['Diagnosed_Condition'] = mms.fit_transform(np.array(x['Diagnosed_Condition']).reshape(-1,1))\r\n",
        "x['Patient_Age'] = mms.fit_transform(np.array(x['Patient_Age']).reshape(-1,1))\r\n",
        "x['Patient_Body_Mass_Index'] = mms.fit_transform(np.array(x['Patient_Body_Mass_Index']).reshape(-1,1))"
      ],
      "execution_count": 16,
      "outputs": []
    },
    {
      "cell_type": "code",
      "metadata": {
        "id": "I_81k08ef4x5"
      },
      "source": [
        "y = y.astype('category')"
      ],
      "execution_count": 17,
      "outputs": []
    },
    {
      "cell_type": "code",
      "metadata": {
        "id": "uE38sRpfhk9M"
      },
      "source": [
        "#train-validation split\r\n",
        "from sklearn.model_selection import train_test_split\r\n",
        "X_train, X_test, y_train, y_test = train_test_split(x, y, test_size=0.33, random_state=42)"
      ],
      "execution_count": 18,
      "outputs": []
    },
    {
      "cell_type": "code",
      "metadata": {
        "id": "7DFGMrqtiKwL"
      },
      "source": [
        "from sklearn.tree import DecisionTreeClassifier\r\n",
        "from sklearn.metrics import classification_report, confusion_matrix \r\n",
        "from sklearn.tree import plot_tree"
      ],
      "execution_count": 19,
      "outputs": []
    },
    {
      "cell_type": "code",
      "metadata": {
        "colab": {
          "base_uri": "https://localhost:8080/"
        },
        "id": "ELn0JlZnpsZO",
        "outputId": "c49ad846-4326-402d-da6b-aeb65c5bcbce"
      },
      "source": [
        "# Defining the decision tree algorithmd\r\n",
        "dtree=DecisionTreeClassifier()\r\n",
        "dtree.fit(X_train,y_train)\r\n",
        "print('Decision Tree Classifier Created')"
      ],
      "execution_count": 20,
      "outputs": [
        {
          "output_type": "stream",
          "text": [
            "Decision Tree Classifier Created\n"
          ],
          "name": "stdout"
        }
      ]
    },
    {
      "cell_type": "code",
      "metadata": {
        "colab": {
          "base_uri": "https://localhost:8080/"
        },
        "id": "9olz-dnRqbGS",
        "outputId": "7569e746-9e98-416a-f0a5-d35fb78b0c61"
      },
      "source": [
        "# Predicting the values of test data\r\n",
        "y_pred = dtree.predict(X_train)\r\n",
        "print(\"Classification report for train dataset - \\n\", classification_report(y_train,y_pred))"
      ],
      "execution_count": 21,
      "outputs": [
        {
          "output_type": "stream",
          "text": [
            "Classification report for train dataset - \n",
            "               precision    recall  f1-score   support\n",
            "\n",
            "           0       1.00      1.00      1.00      5480\n",
            "           1       1.00      1.00      1.00      9158\n",
            "\n",
            "    accuracy                           1.00     14638\n",
            "   macro avg       1.00      1.00      1.00     14638\n",
            "weighted avg       1.00      1.00      1.00     14638\n",
            "\n"
          ],
          "name": "stdout"
        }
      ]
    },
    {
      "cell_type": "code",
      "metadata": {
        "colab": {
          "base_uri": "https://localhost:8080/"
        },
        "id": "w6dC_OF9rZJ2",
        "outputId": "95158b48-6e82-4a37-fd2c-74811087fc18"
      },
      "source": [
        "# Predicting the values of test data\r\n",
        "y_pred = dtree.predict(X_test)\r\n",
        "print(\"Classification report for test dataset - \\n\", classification_report(y_test,y_pred))"
      ],
      "execution_count": 22,
      "outputs": [
        {
          "output_type": "stream",
          "text": [
            "Classification report for test dataset - \n",
            "               precision    recall  f1-score   support\n",
            "\n",
            "           0       0.63      0.67      0.65      2727\n",
            "           1       0.79      0.76      0.78      4484\n",
            "\n",
            "    accuracy                           0.73      7211\n",
            "   macro avg       0.71      0.72      0.71      7211\n",
            "weighted avg       0.73      0.73      0.73      7211\n",
            "\n"
          ],
          "name": "stdout"
        }
      ]
    },
    {
      "cell_type": "code",
      "metadata": {
        "id": "3f3iNMogr587"
      },
      "source": [
        "import seaborn as sns\r\n",
        "import matplotlib.pyplot as plt"
      ],
      "execution_count": 23,
      "outputs": []
    },
    {
      "cell_type": "code",
      "metadata": {
        "colab": {
          "base_uri": "https://localhost:8080/",
          "height": 591
        },
        "id": "1c8KgzjurlnJ",
        "outputId": "c9a121bd-51cb-418d-9761-2916706fa7bd"
      },
      "source": [
        "cm = confusion_matrix(y_test, y_pred)\r\n",
        "plt.figure(figsize=(10,10))\r\n",
        "sns.heatmap(data=cm,linewidths=.8, annot=True,square = True,  cmap = 'Blues')\r\n",
        "plt.ylabel('Actual label')\r\n",
        "plt.xlabel('Predicted label')\r\n",
        "all_sample_title = 'Accuracy Score: {0}'.format(dtree.score(X_test, y_test))\r\n",
        "plt.title(all_sample_title, size = 10)"
      ],
      "execution_count": 29,
      "outputs": [
        {
          "output_type": "execute_result",
          "data": {
            "text/plain": [
              "Text(0.5, 1.0, 'Accuracy Score: 0.7265289141589238')"
            ]
          },
          "metadata": {
            "tags": []
          },
          "execution_count": 29
        },
        {
          "output_type": "display_data",
          "data": {
            "image/png": "[encoded data removed]",
            "text/plain": [
              "<Figure size 720x720 with 2 Axes>"
            ]
          },
          "metadata": {
            "tags": [],
            "needs_background": "light"
          }
        }
      ]
    },
    {
      "cell_type": "code",
      "metadata": {
        "colab": {
          "base_uri": "https://localhost:8080/",
          "height": 249
        },
        "id": "bI3Ww2Ddr2zH",
        "outputId": "e33b7267-f84d-4055-d78c-5ec82aa352b5"
      },
      "source": [
        "dec_tree = plot_tree(decision_tree=dtree, feature_names = x.columns)"
      ],
      "execution_count": 25,
      "outputs": [
        {
          "output_type": "display_data",
          "data": {
            "image/png": "[encoded data removed]",
            "text/plain": [
              "<Figure size 432x288 with 1 Axes>"
            ]
          },
          "metadata": {
            "tags": [],
            "needs_background": "light"
          }
        }
      ]
    },
    {
      "cell_type": "code",
      "metadata": {
        "colab": {
          "base_uri": "https://localhost:8080/"
        },
        "id": "_rw31Y6KL5tw",
        "outputId": "c1850441-5edb-4375-9e8a-2d29ec227956"
      },
      "source": [
        "x.shape"
      ],
      "execution_count": 27,
      "outputs": [
        {
          "output_type": "execute_result",
          "data": {
            "text/plain": [
              "(21849, 45)"
            ]
          },
          "metadata": {
            "tags": []
          },
          "execution_count": 27
        }
      ]
    },
    {
      "cell_type": "code",
      "metadata": {
        "id": "vXmPwt9wt087"
      },
      "source": [
        "#accuracy is quite low...\r\n",
        "#lets try to optimise it"
      ],
      "execution_count": null,
      "outputs": []
    },
    {
      "cell_type": "code",
      "metadata": {
        "id": "8N_m924ku8By"
      },
      "source": [
        "#Hyperparameter tuning for model optimization"
      ],
      "execution_count": 30,
      "outputs": []
    },
    {
      "cell_type": "code",
      "metadata": {
        "id": "q25iZx6Jdjwx"
      },
      "source": [
        "from sklearn import decomposition\r\n",
        "from sklearn.pipeline import Pipeline\r\n",
        "from sklearn.model_selection import GridSearchCV"
      ],
      "execution_count": 31,
      "outputs": []
    },
    {
      "cell_type": "code",
      "metadata": {
        "id": "JMILBawL6oJF"
      },
      "source": [
        "pca = decomposition.PCA()\r\n",
        "# Creating a DecisionTreeClassifier\r\n",
        "dec_tree = DecisionTreeClassifier()"
      ],
      "execution_count": 33,
      "outputs": []
    },
    {
      "cell_type": "code",
      "metadata": {
        "id": "iuhl8gT-7ZB6"
      },
      "source": [
        "#tranforming the data with PCA.\r\n",
        "#training a Decision Tree Classifier on the data.\r\n",
        "pipe = Pipeline(steps=[('pca', pca),('dec_tree', dec_tree)])\r\n",
        "\r\n",
        "# Creating a list of a sequence of integers from 1 to 30 (the number of features in X + 1)\r\n",
        "n_components = list(range(1,X_train.shape[1]+1,1))\r\n",
        "\r\n",
        "# Creating lists of parameter for Decision Tree Classifier\r\n",
        "criterion = ['gini', 'entropy']\r\n",
        "max_depth = [2,4,6,8,10,12]"
      ],
      "execution_count": 35,
      "outputs": []
    },
    {
      "cell_type": "code",
      "metadata": {
        "colab": {
          "base_uri": "https://localhost:8080/"
        },
        "id": "zc2FXUtb8lsa",
        "outputId": "6e9b361f-eb9f-41e3-8aa0-d19c11c6d49d"
      },
      "source": [
        "# Creating a dictionary of all the parameter options \r\n",
        "# Note that we can access the parameters of steps of a pipeline by using '__’\r\n",
        "parameters = dict(pca__n_components=n_components, dec_tree__criterion=criterion,\r\n",
        "                  dec_tree__max_depth=max_depth)\r\n",
        "\r\n",
        "# Conducting Parameter Optmization With Pipeline\r\n",
        "# Creating a grid search object\r\n",
        "clf_GS = GridSearchCV(pipe, parameters)\r\n",
        "\r\n",
        "# Fitting the grid search\r\n",
        "clf_GS.fit(X_train, y_train)"
      ],
      "execution_count": 36,
      "outputs": [
        {
          "output_type": "execute_result",
          "data": {
            "text/plain": [
              "GridSearchCV(cv=None, error_score=nan,\n",
              "             estimator=Pipeline(memory=None,\n",
              "                                steps=[('pca',\n",
              "                                        PCA(copy=True, iterated_power='auto',\n",
              "                                            n_components=None,\n",
              "                                            random_state=None,\n",
              "                                            svd_solver='auto', tol=0.0,\n",
              "                                            whiten=False)),\n",
              "                                       ('dec_tree',\n",
              "                                        DecisionTreeClassifier(ccp_alpha=0.0,\n",
              "                                                               class_weight=None,\n",
              "                                                               criterion='gini',\n",
              "                                                               max_depth=None,\n",
              "                                                               max_features=None,\n",
              "                                                               max_leaf_nodes=None,\n",
              "                                                               min_impurity_decre...\n",
              "                                                               random_state=None,\n",
              "                                                               splitter='best'))],\n",
              "                                verbose=False),\n",
              "             iid='deprecated', n_jobs=None,\n",
              "             param_grid={'dec_tree__criterion': ['gini', 'entropy'],\n",
              "                         'dec_tree__max_depth': [2, 4, 6, 8, 10, 12],\n",
              "                         'pca__n_components': [1, 2, 3, 4, 5, 6, 7, 8, 9, 10,\n",
              "                                               11, 12, 13, 14, 15, 16, 17, 18,\n",
              "                                               19, 20, 21, 22, 23, 24, 25, 26,\n",
              "                                               27, 28, 29, 30, ...]},\n",
              "             pre_dispatch='2*n_jobs', refit=True, return_train_score=False,\n",
              "             scoring=None, verbose=0)"
            ]
          },
          "metadata": {
            "tags": []
          },
          "execution_count": 36
        }
      ]
    },
    {
      "cell_type": "code",
      "metadata": {
        "colab": {
          "base_uri": "https://localhost:8080/"
        },
        "id": "-b45-IkV9CPn",
        "outputId": "f3b116a8-d7c4-4d9a-83f6-c53407152605"
      },
      "source": [
        "print('Best Criterion:', clf_GS.best_estimator_.get_params()['dec_tree__criterion'])\r\n",
        "print('Best max_depth:', clf_GS.best_estimator_.get_params()['dec_tree__max_depth'])\r\n",
        "print('Best Number Of Components:', clf_GS.best_estimator_.get_params()['pca__n_components'])\r\n",
        "print()\r\n",
        "print(clf_GS.best_estimator_.get_params()['dec_tree'])"
      ],
      "execution_count": 40,
      "outputs": [
        {
          "output_type": "stream",
          "text": [
            "Best Criterion: gini\n",
            "Best max_depth: 10\n",
            "Best Number Of Components: 40\n",
            "\n",
            "DecisionTreeClassifier(ccp_alpha=0.0, class_weight=None, criterion='gini',\n",
            "                       max_depth=10, max_features=None, max_leaf_nodes=None,\n",
            "                       min_impurity_decrease=0.0, min_impurity_split=None,\n",
            "                       min_samples_leaf=1, min_samples_split=2,\n",
            "                       min_weight_fraction_leaf=0.0, presort='deprecated',\n",
            "                       random_state=None, splitter='best')\n"
          ],
          "name": "stdout"
        }
      ]
    },
    {
      "cell_type": "code",
      "metadata": {
        "colab": {
          "base_uri": "https://localhost:8080/"
        },
        "id": "gTZ_AqwjC66E",
        "outputId": "366ce7b0-a755-44bb-aa94-98c553232285"
      },
      "source": [
        "y_pred = clf_GS.predict(X_train)\r\n",
        "print(\"Classification report for train dataset - \\n\", classification_report(y_train,y_pred))"
      ],
      "execution_count": 41,
      "outputs": [
        {
          "output_type": "stream",
          "text": [
            "Classification report for train dataset - \n",
            "               precision    recall  f1-score   support\n",
            "\n",
            "           0       0.84      0.76      0.80      5480\n",
            "           1       0.87      0.91      0.89      9158\n",
            "\n",
            "    accuracy                           0.86     14638\n",
            "   macro avg       0.85      0.84      0.85     14638\n",
            "weighted avg       0.86      0.86      0.86     14638\n",
            "\n"
          ],
          "name": "stdout"
        }
      ]
    },
    {
      "cell_type": "code",
      "metadata": {
        "colab": {
          "base_uri": "https://localhost:8080/"
        },
        "id": "3LWWtCz7DRGg",
        "outputId": "ee419035-5546-4600-a629-b3c5dbfcb20c"
      },
      "source": [
        "# Predicting the values of test data\r\n",
        "y_pred = clf_GS.predict(X_test)\r\n",
        "print(\"Classification report for test dataset - \\n\", classification_report(y_test,y_pred))"
      ],
      "execution_count": 44,
      "outputs": [
        {
          "output_type": "stream",
          "text": [
            "Classification report for test dataset - \n",
            "               precision    recall  f1-score   support\n",
            "\n",
            "           0       0.69      0.61      0.65      2727\n",
            "           1       0.78      0.83      0.80      4484\n",
            "\n",
            "    accuracy                           0.75      7211\n",
            "   macro avg       0.73      0.72      0.73      7211\n",
            "weighted avg       0.74      0.75      0.74      7211\n",
            "\n"
          ],
          "name": "stdout"
        }
      ]
    },
    {
      "cell_type": "code",
      "metadata": {
        "colab": {
          "base_uri": "https://localhost:8080/",
          "height": 591
        },
        "id": "va9_hUOLDYRF",
        "outputId": "6268eb88-a241-40c4-be19-b03066ebf1e4"
      },
      "source": [
        "cm = confusion_matrix(y_test, y_pred)\r\n",
        "plt.figure(figsize=(10,10))\r\n",
        "sns.heatmap(data=cm,linewidths=.8, annot=True,square = True,  cmap = 'Blues')\r\n",
        "plt.ylabel('Actual label')\r\n",
        "plt.xlabel('Predicted label')\r\n",
        "all_sample_title = 'Accuracy Score: {0}'.format(clf_GS.score(X_test, y_test))\r\n",
        "plt.title(all_sample_title, size = 10)"
      ],
      "execution_count": 46,
      "outputs": [
        {
          "output_type": "execute_result",
          "data": {
            "text/plain": [
              "Text(0.5, 1.0, 'Accuracy Score: 0.7473304673415615')"
            ]
          },
          "metadata": {
            "tags": []
          },
          "execution_count": 46
        },
        {
          "output_type": "display_data",
          "data": {
            "image/png": "[encoded data removed]",
            "text/plain": [
              "<Figure size 720x720 with 2 Axes>"
            ]
          },
          "metadata": {
            "tags": [],
            "needs_background": "light"
          }
        }
      ]
    },
    {
      "cell_type": "code",
      "metadata": {
        "id": "LTpRiIo6DgQM"
      },
      "source": [
        ""
      ],
      "execution_count": null,
      "outputs": []
    }
  ]
}