{
  "nbformat": 4,
  "nbformat_minor": 0,
  "metadata": {
    "colab": {
      "name": "support_vecot_machine.ipynb",
      "provenance": [],
      "authorship_tag": "ABX9TyOFwZVbZClwmJlxmqFM0UJi",
      "include_colab_link": true
    },
    "kernelspec": {
      "name": "python3",
      "display_name": "Python 3"
    }
  },
  "cells": [
    {
      "cell_type": "markdown",
      "metadata": {
        "id": "view-in-github",
        "colab_type": "text"
      },
      "source": [
        "<a href=\"https://colab.research.google.com/github/rajbeniwal710/Classification_Models/blob/main/support_vecot_machine.ipynb\" target=\"_parent\"><img src=\"https://colab.research.google.com/assets/colab-badge.svg\" alt=\"Open In Colab\"/></a>"
      ]
    },
    {
      "cell_type": "code",
      "metadata": {
        "colab": {
          "base_uri": "https://localhost:8080/",
          "height": 224
        },
        "id": "KMPY9NG-ZeI6",
        "outputId": "d94bb83c-333c-4731-c7be-c505f04b9236"
      },
      "source": [
        "import pandas as pd\r\n",
        "pharma_data = pd.read_csv('https://raw.githubusercontent.com/dphi-official/Datasets/master/pharma_data/Training_set_begs.csv')\r\n",
        "pharma_data.head()"
      ],
      "execution_count": 1,
      "outputs": [
        {
          "output_type": "execute_result",
          "data": {
            "text/html": [
              "<div>\n",
              "<style scoped>\n",
              "    .dataframe tbody tr th:only-of-type {\n",
              "        vertical-align: middle;\n",
              "    }\n",
              "\n",
              "    .dataframe tbody tr th {\n",
              "        vertical-align: top;\n",
              "    }\n",
              "\n",
              "    .dataframe thead th {\n",
              "        text-align: right;\n",
              "    }\n",
              "</style>\n",
              "<table border=\"1\" class=\"dataframe\">\n",
              "  <thead>\n",
              "    <tr style=\"text-align: right;\">\n",
              "      <th></th>\n",
              "      <th>ID_Patient_Care_Situation</th>\n",
              "      <th>Diagnosed_Condition</th>\n",
              "      <th>Patient_ID</th>\n",
              "      <th>Treated_with_drugs</th>\n",
              "      <th>Patient_Age</th>\n",
              "      <th>Patient_Body_Mass_Index</th>\n",
              "      <th>Patient_Smoker</th>\n",
              "      <th>Patient_Rural_Urban</th>\n",
              "      <th>Patient_mental_condition</th>\n",
              "      <th>A</th>\n",
              "      <th>B</th>\n",
              "      <th>C</th>\n",
              "      <th>D</th>\n",
              "      <th>E</th>\n",
              "      <th>F</th>\n",
              "      <th>Z</th>\n",
              "      <th>Number_of_prev_cond</th>\n",
              "      <th>Survived_1_year</th>\n",
              "    </tr>\n",
              "  </thead>\n",
              "  <tbody>\n",
              "    <tr>\n",
              "      <th>0</th>\n",
              "      <td>22374</td>\n",
              "      <td>8</td>\n",
              "      <td>3333</td>\n",
              "      <td>DX6</td>\n",
              "      <td>56</td>\n",
              "      <td>18.479385</td>\n",
              "      <td>YES</td>\n",
              "      <td>URBAN</td>\n",
              "      <td>Stable</td>\n",
              "      <td>1.0</td>\n",
              "      <td>0.0</td>\n",
              "      <td>0.0</td>\n",
              "      <td>0.0</td>\n",
              "      <td>1.0</td>\n",
              "      <td>0.0</td>\n",
              "      <td>0.0</td>\n",
              "      <td>2.0</td>\n",
              "      <td>0</td>\n",
              "    </tr>\n",
              "    <tr>\n",
              "      <th>1</th>\n",
              "      <td>18164</td>\n",
              "      <td>5</td>\n",
              "      <td>5740</td>\n",
              "      <td>DX2</td>\n",
              "      <td>36</td>\n",
              "      <td>22.945566</td>\n",
              "      <td>YES</td>\n",
              "      <td>RURAL</td>\n",
              "      <td>Stable</td>\n",
              "      <td>1.0</td>\n",
              "      <td>0.0</td>\n",
              "      <td>0.0</td>\n",
              "      <td>0.0</td>\n",
              "      <td>0.0</td>\n",
              "      <td>0.0</td>\n",
              "      <td>0.0</td>\n",
              "      <td>1.0</td>\n",
              "      <td>1</td>\n",
              "    </tr>\n",
              "    <tr>\n",
              "      <th>2</th>\n",
              "      <td>6283</td>\n",
              "      <td>23</td>\n",
              "      <td>10446</td>\n",
              "      <td>DX6</td>\n",
              "      <td>48</td>\n",
              "      <td>27.510027</td>\n",
              "      <td>YES</td>\n",
              "      <td>RURAL</td>\n",
              "      <td>Stable</td>\n",
              "      <td>1.0</td>\n",
              "      <td>0.0</td>\n",
              "      <td>0.0</td>\n",
              "      <td>0.0</td>\n",
              "      <td>0.0</td>\n",
              "      <td>0.0</td>\n",
              "      <td>0.0</td>\n",
              "      <td>1.0</td>\n",
              "      <td>0</td>\n",
              "    </tr>\n",
              "    <tr>\n",
              "      <th>3</th>\n",
              "      <td>5339</td>\n",
              "      <td>51</td>\n",
              "      <td>12011</td>\n",
              "      <td>DX1</td>\n",
              "      <td>5</td>\n",
              "      <td>19.130976</td>\n",
              "      <td>NO</td>\n",
              "      <td>URBAN</td>\n",
              "      <td>Stable</td>\n",
              "      <td>1.0</td>\n",
              "      <td>0.0</td>\n",
              "      <td>0.0</td>\n",
              "      <td>0.0</td>\n",
              "      <td>0.0</td>\n",
              "      <td>0.0</td>\n",
              "      <td>0.0</td>\n",
              "      <td>1.0</td>\n",
              "      <td>1</td>\n",
              "    </tr>\n",
              "    <tr>\n",
              "      <th>4</th>\n",
              "      <td>33012</td>\n",
              "      <td>0</td>\n",
              "      <td>12513</td>\n",
              "      <td>NaN</td>\n",
              "      <td>128</td>\n",
              "      <td>1.348400</td>\n",
              "      <td>Cannot say</td>\n",
              "      <td>RURAL</td>\n",
              "      <td>Stable</td>\n",
              "      <td>0.0</td>\n",
              "      <td>0.0</td>\n",
              "      <td>0.0</td>\n",
              "      <td>0.0</td>\n",
              "      <td>0.0</td>\n",
              "      <td>0.0</td>\n",
              "      <td>1.0</td>\n",
              "      <td>1.0</td>\n",
              "      <td>1</td>\n",
              "    </tr>\n",
              "  </tbody>\n",
              "</table>\n",
              "</div>"
            ],
            "text/plain": [
              "   ID_Patient_Care_Situation  ...  Survived_1_year\n",
              "0                      22374  ...                0\n",
              "1                      18164  ...                1\n",
              "2                       6283  ...                0\n",
              "3                       5339  ...                1\n",
              "4                      33012  ...                1\n",
              "\n",
              "[5 rows x 18 columns]"
            ]
          },
          "metadata": {
            "tags": []
          },
          "execution_count": 1
        }
      ]
    },
    {
      "cell_type": "code",
      "metadata": {
        "id": "op7s_uuXk1jc"
      },
      "source": [
        "pharma_data = pharma_data.dropna()"
      ],
      "execution_count": 2,
      "outputs": []
    },
    {
      "cell_type": "code",
      "metadata": {
        "id": "VqiMunPwk6KN"
      },
      "source": [
        "from sklearn.preprocessing import LabelEncoder\r\n",
        "le = LabelEncoder()\r\n",
        "pharma_data['Treated_with_drugs'] = le.fit_transform(pharma_data['Treated_with_drugs'])"
      ],
      "execution_count": 3,
      "outputs": []
    },
    {
      "cell_type": "code",
      "metadata": {
        "id": "G6MyFgxvlAM0"
      },
      "source": [
        "#x-y \r\n",
        "x = pharma_data.iloc[:,:-1]\r\n",
        "x = x.drop(['Patient_ID'], axis = 1)\r\n",
        "y = pharma_data.iloc[:,-1]\r\n",
        "#data cleaning\r\n",
        "x = pd.get_dummies(x)"
      ],
      "execution_count": 4,
      "outputs": []
    },
    {
      "cell_type": "code",
      "metadata": {
        "id": "1zg3hZfRlvdG"
      },
      "source": [
        "#lets drop some columns to drop dummy trap\r\n",
        "x = x.drop(['Patient_Smoker_NO'], axis = 1)\r\n",
        "x = x.drop(['Patient_Rural_Urban_URBAN'], axis = 1)\r\n",
        "x = x.drop(['ID_Patient_Care_Situation'], axis = 1)"
      ],
      "execution_count": 5,
      "outputs": []
    },
    {
      "cell_type": "code",
      "metadata": {
        "id": "WHLuargQl1b-"
      },
      "source": [
        "x = x.drop(['Patient_mental_condition_Stable'], axis = 1)"
      ],
      "execution_count": 6,
      "outputs": []
    },
    {
      "cell_type": "code",
      "metadata": {
        "id": "L9LW92aSl4lz"
      },
      "source": [
        "x.loc[x['Patient_Age']>100, 'Patient_Age'] = 100"
      ],
      "execution_count": 7,
      "outputs": []
    },
    {
      "cell_type": "code",
      "metadata": {
        "id": "WjYX56b5l7dM"
      },
      "source": [
        "import numpy as np\r\n",
        "from sklearn.preprocessing import MinMaxScaler\r\n",
        "mms = MinMaxScaler()\r\n",
        "x['Diagnosed_Condition'] = mms.fit_transform(np.array(x['Diagnosed_Condition']).reshape(-1,1))\r\n",
        "x['Patient_Age'] = mms.fit_transform(np.array(x['Patient_Age']).reshape(-1,1))\r\n",
        "x['Patient_Body_Mass_Index'] = mms.fit_transform(np.array(x['Patient_Body_Mass_Index']).reshape(-1,1))"
      ],
      "execution_count": 8,
      "outputs": []
    },
    {
      "cell_type": "code",
      "metadata": {
        "id": "ccPOu67-mMSp"
      },
      "source": [
        "y = y.astype('category')"
      ],
      "execution_count": 9,
      "outputs": []
    },
    {
      "cell_type": "code",
      "metadata": {
        "id": "E5GzVINKmPji"
      },
      "source": [
        "#train-validation split\r\n",
        "from sklearn.model_selection import train_test_split\r\n",
        "X_train, X_test, y_train, y_test = train_test_split(x, y, test_size=0.33, random_state=42)"
      ],
      "execution_count": 10,
      "outputs": []
    },
    {
      "cell_type": "code",
      "metadata": {
        "id": "hzEAzrK1gTOY"
      },
      "source": [
        "import seaborn as sns\r\n",
        "import matplotlib.pyplot as plt\r\n",
        "from sklearn.metrics import classification_report, confusion_matrix \r\n",
        "from sklearn.svm import SVC"
      ],
      "execution_count": 11,
      "outputs": []
    },
    {
      "cell_type": "code",
      "metadata": {
        "colab": {
          "base_uri": "https://localhost:8080/"
        },
        "id": "lS0x_V3nnNpN",
        "outputId": "67f5b5f8-119d-4a57-e84b-7dcc73c2fa3b"
      },
      "source": [
        "#linear kernel\r\n",
        "svclassifier = SVC(kernel='linear')\r\n",
        "svclassifier.fit(X_train, y_train)\r\n",
        "y_pred1 = svclassifier.predict(X_train)\r\n",
        "print(\"Classification report for train dataset - \\n\", classification_report(y_train,y_pred1))\r\n",
        "# Predicting the values of test data\r\n",
        "y_pred2 = svclassifier.predict(X_test)\r\n",
        "print(\"Classification report for test dataset - \\n\", classification_report(y_test,y_pred2))"
      ],
      "execution_count": 13,
      "outputs": [
        {
          "output_type": "stream",
          "text": [
            "Classification report for train dataset - \n",
            "               precision    recall  f1-score   support\n",
            "\n",
            "           0       0.61      0.47      0.53      5480\n",
            "           1       0.72      0.82      0.77      9158\n",
            "\n",
            "    accuracy                           0.69     14638\n",
            "   macro avg       0.66      0.64      0.65     14638\n",
            "weighted avg       0.68      0.69      0.68     14638\n",
            "\n",
            "Classification report for test dataset - \n",
            "               precision    recall  f1-score   support\n",
            "\n",
            "           0       0.62      0.49      0.55      2727\n",
            "           1       0.72      0.82      0.77      4484\n",
            "\n",
            "    accuracy                           0.69      7211\n",
            "   macro avg       0.67      0.65      0.66      7211\n",
            "weighted avg       0.68      0.69      0.68      7211\n",
            "\n"
          ],
          "name": "stdout"
        }
      ]
    },
    {
      "cell_type": "code",
      "metadata": {
        "colab": {
          "base_uri": "https://localhost:8080/",
          "height": 591
        },
        "id": "-LLIXa_Vgffb",
        "outputId": "455811ca-71b1-4d51-ae6f-250051bce855"
      },
      "source": [
        "cm = confusion_matrix(y_test, y_pred2)\r\n",
        "plt.figure(figsize=(10,10))\r\n",
        "sns.heatmap(data=cm,linewidths=.8, annot=True,square = True,  cmap = 'Blues')\r\n",
        "plt.ylabel('Actual label')\r\n",
        "plt.xlabel('Predicted label')\r\n",
        "all_sample_title = 'Accuracy Score: {0}'.format(svclassifier.score(X_test, y_test))\r\n",
        "plt.title(all_sample_title, size = 10)"
      ],
      "execution_count": 14,
      "outputs": [
        {
          "output_type": "execute_result",
          "data": {
            "text/plain": [
              "Text(0.5, 1.0, 'Accuracy Score: 0.6921370128969629')"
            ]
          },
          "metadata": {
            "tags": []
          },
          "execution_count": 14
        },
        {
          "output_type": "display_data",
          "data": {
            "image/png": "[encoded data removed]",
            "text/plain": [
              "<Figure size 720x720 with 2 Axes>"
            ]
          },
          "metadata": {
            "tags": [],
            "needs_background": "light"
          }
        }
      ]
    },
    {
      "cell_type": "code",
      "metadata": {
        "colab": {
          "base_uri": "https://localhost:8080/"
        },
        "id": "NmGVNWnUg1Vl",
        "outputId": "b2f42f97-62c3-4aca-cb7d-b6ed6f721398"
      },
      "source": [
        "#gaussian kernel\r\n",
        "svclassifier = SVC(kernel='rbf')\r\n",
        "svclassifier.fit(X_train, y_train)\r\n",
        "y_pred1 = svclassifier.predict(X_train)\r\n",
        "print(\"Classification report for train dataset - \\n\", classification_report(y_train,y_pred1))\r\n",
        "# Predicting the values of test data\r\n",
        "y_pred2 = svclassifier.predict(X_test)\r\n",
        "print(\"Classification report for test dataset - \\n\", classification_report(y_test,y_pred2))"
      ],
      "execution_count": 15,
      "outputs": [
        {
          "output_type": "stream",
          "text": [
            "Classification report for train dataset - \n",
            "               precision    recall  f1-score   support\n",
            "\n",
            "           0       0.66      0.39      0.49      5480\n",
            "           1       0.71      0.88      0.78      9158\n",
            "\n",
            "    accuracy                           0.70     14638\n",
            "   macro avg       0.68      0.64      0.64     14638\n",
            "weighted avg       0.69      0.70      0.67     14638\n",
            "\n",
            "Classification report for test dataset - \n",
            "               precision    recall  f1-score   support\n",
            "\n",
            "           0       0.69      0.42      0.52      2727\n",
            "           1       0.72      0.88      0.79      4484\n",
            "\n",
            "    accuracy                           0.71      7211\n",
            "   macro avg       0.70      0.65      0.66      7211\n",
            "weighted avg       0.70      0.71      0.69      7211\n",
            "\n"
          ],
          "name": "stdout"
        }
      ]
    },
    {
      "cell_type": "code",
      "metadata": {
        "colab": {
          "base_uri": "https://localhost:8080/",
          "height": 591
        },
        "id": "XCXhLwr-hSpi",
        "outputId": "f6b9fe97-7aff-401a-bb61-d63194c7b171"
      },
      "source": [
        "cm = confusion_matrix(y_test, y_pred2)\r\n",
        "plt.figure(figsize=(10,10))\r\n",
        "sns.heatmap(data=cm,linewidths=.8, annot=True,square = True,  cmap = 'Blues')\r\n",
        "plt.ylabel('Actual label')\r\n",
        "plt.xlabel('Predicted label')\r\n",
        "all_sample_title = 'Accuracy Score: {0}'.format(svclassifier.score(X_test, y_test))\r\n",
        "plt.title(all_sample_title, size = 10)"
      ],
      "execution_count": 16,
      "outputs": [
        {
          "output_type": "execute_result",
          "data": {
            "text/plain": [
              "Text(0.5, 1.0, 'Accuracy Score: 0.7082235473582027')"
            ]
          },
          "metadata": {
            "tags": []
          },
          "execution_count": 16
        },
        {
          "output_type": "display_data",
          "data": {
            "image/png": "[encoded data removed]",
            "text/plain": [
              "<Figure size 720x720 with 2 Axes>"
            ]
          },
          "metadata": {
            "tags": [],
            "needs_background": "light"
          }
        }
      ]
    },
    {
      "cell_type": "code",
      "metadata": {
        "colab": {
          "base_uri": "https://localhost:8080/"
        },
        "id": "R61rochViPzh",
        "outputId": "c8631488-b3d0-4886-ba0d-566223eaf089"
      },
      "source": [
        "#gaussian kernel\r\n",
        "svclassifier = SVC(kernel='sigmoid')\r\n",
        "svclassifier.fit(X_train, y_train)\r\n",
        "y_pred1 = svclassifier.predict(X_train)\r\n",
        "print(\"Classification report for train dataset - \\n\", classification_report(y_train,y_pred1))\r\n",
        "# Predicting the values of test data\r\n",
        "y_pred2 = svclassifier.predict(X_test)\r\n",
        "print(\"Classification report for test dataset - \\n\", classification_report(y_test,y_pred2))"
      ],
      "execution_count": 17,
      "outputs": [
        {
          "output_type": "stream",
          "text": [
            "Classification report for train dataset - \n",
            "               precision    recall  f1-score   support\n",
            "\n",
            "           0       0.58      0.61      0.60      5480\n",
            "           1       0.76      0.74      0.75      9158\n",
            "\n",
            "    accuracy                           0.69     14638\n",
            "   macro avg       0.67      0.68      0.67     14638\n",
            "weighted avg       0.70      0.69      0.69     14638\n",
            "\n",
            "Classification report for test dataset - \n",
            "               precision    recall  f1-score   support\n",
            "\n",
            "           0       0.58      0.63      0.60      2727\n",
            "           1       0.76      0.73      0.75      4484\n",
            "\n",
            "    accuracy                           0.69      7211\n",
            "   macro avg       0.67      0.68      0.67      7211\n",
            "weighted avg       0.69      0.69      0.69      7211\n",
            "\n"
          ],
          "name": "stdout"
        }
      ]
    },
    {
      "cell_type": "code",
      "metadata": {
        "colab": {
          "base_uri": "https://localhost:8080/",
          "height": 591
        },
        "id": "I6GBcc-JiX1b",
        "outputId": "bba3c562-b571-420a-8561-b12fe45c87a4"
      },
      "source": [
        "cm = confusion_matrix(y_test, y_pred2)\r\n",
        "plt.figure(figsize=(10,10))\r\n",
        "sns.heatmap(data=cm,linewidths=.8, annot=True,square = True,  cmap = 'Blues')\r\n",
        "plt.ylabel('Actual label')\r\n",
        "plt.xlabel('Predicted label')\r\n",
        "all_sample_title = 'Accuracy Score: {0}'.format(svclassifier.score(X_test, y_test))\r\n",
        "plt.title(all_sample_title, size = 10)"
      ],
      "execution_count": 18,
      "outputs": [
        {
          "output_type": "execute_result",
          "data": {
            "text/plain": [
              "Text(0.5, 1.0, 'Accuracy Score: 0.6899181805574817')"
            ]
          },
          "metadata": {
            "tags": []
          },
          "execution_count": 18
        },
        {
          "output_type": "display_data",
          "data": {
            "image/png": "[encoded data removed]",
            "text/plain": [
              "<Figure size 720x720 with 2 Axes>"
            ]
          },
          "metadata": {
            "tags": [],
            "needs_background": "light"
          }
        }
      ]
    },
    {
      "cell_type": "code",
      "metadata": {
        "id": "aCQnlsLaiabF"
      },
      "source": [
        ""
      ],
      "execution_count": null,
      "outputs": []
    }
  ]
}